{
 "cells": [
  {
   "cell_type": "markdown",
   "metadata": {},
   "source": [
    "# Indexing MDFs with Pony ORM.\n",
    "\n",
    "Continues from the SQLLite PonyORM example to make a more advanced MDF class to display more information in the ```__repr__``` string."
   ]
  },
  {
   "cell_type": "code",
   "execution_count": 1,
   "metadata": {},
   "outputs": [],
   "source": [
    "import fsspec\n",
    "from asammdf import MDF"
   ]
  },
  {
   "cell_type": "markdown",
   "metadata": {},
   "source": [
    "ORM setup."
   ]
  },
  {
   "cell_type": "code",
   "execution_count": 2,
   "metadata": {},
   "outputs": [],
   "source": [
    "import os\n",
    "\n",
    "import pony.orm\n",
    "from pony.orm.core import EntityMeta\n",
    "from datetime import datetime\n",
    "\n",
    "pony.orm.set_sql_debug(False)\n",
    "db = pony.orm.Database()\n",
    "\n",
    "if True:\n",
    "    # In memory datatabase\n",
    "    filename=\":memory:\"\n",
    "else:\n",
    "    # Or not.\n",
    "    filename = os.path.abspath(\"mdf_index.sqlite\")\n",
    "    if os.path.exists(filename):\n",
    "        os.unlink(filename)\n",
    "# Bind\n",
    "db.bind(\n",
    "    provider=\"sqlite\", filename=filename, create_db=True,\n",
    ")"
   ]
  },
  {
   "cell_type": "markdown",
   "metadata": {},
   "source": [
    "Rather than calculate the product and company name every time, this stores them in the database.\n",
    "\n",
    "The repr string is also more descriptive."
   ]
  },
  {
   "cell_type": "code",
   "execution_count": 3,
   "metadata": {},
   "outputs": [],
   "source": [
    "# For Local Indexing.\n",
    "class MDF(db.Entity):\n",
    "    # Filesystem Bits.\n",
    "    key = pony.orm.Required(str, unique=True,)\n",
    "    last_modified = pony.orm.Optional(datetime, volatile=True)\n",
    "    etag = pony.orm.Optional(str,)\n",
    "    size = pony.orm.Optional(int,)\n",
    "    size_mb = pony.orm.Optional(float,)\n",
    "    storage_class = pony.orm.Optional(str,)\n",
    "    type = pony.orm.Optional(str,)\n",
    "    name = pony.orm.Optional(str,)\n",
    "    \n",
    "    # Pre-calculated bits.\n",
    "    basename = pony.orm.Optional(str,)\n",
    "    \n",
    "    product = pony.orm.Optional(str,)\n",
    "    company = pony.orm.Optional(str,)\n",
    "\n",
    "    # ASAM MDF Bits.\n",
    "    version = pony.orm.Optional(str,)\n",
    "    channels = pony.orm.Set(\"Channel\",)\n",
    "    \n",
    "    def __repr__(self):\n",
    "        return f\"MDF<{self.id},{self.product},{self.company},Ch:{len(self.channels)}>\"\n",
    "\n",
    "class Channel(db.Entity):\n",
    "    \"\"\"Channel entity to represent a \n",
    "    \n",
    "    \"\"\"\n",
    "    name = pony.orm.Required(str, unique=True,)\n",
    "    mdfs = pony.orm.Set(\"MDF\",)\n",
    "    \n",
    "    def __repr__(self):\n",
    "        return f\"Channel<{self.id},{self.name}>\"\n",
    "\n",
    "def upsert(cls, get, set=None):\n",
    "    \"\"\"\n",
    "    Interacting with Pony entities.\n",
    "\n",
    "    :param cls: The actual entity class\n",
    "    :param get: Identify the object (e.g. row) with this dictionary\n",
    "    :param set: Additional fields to set if ```get``` returns nothing.\n",
    "    :return:\n",
    "    \"\"\"\n",
    "    # does the object exist\n",
    "    assert isinstance(cls, EntityMeta), f\"{cls} is not a database entity\"\n",
    "\n",
    "    # if no set dictionary has been specified\n",
    "    set = set or {}\n",
    "\n",
    "    if not cls.exists(**get):\n",
    "        # make new object\n",
    "        return cls(**set, **get)\n",
    "    else:\n",
    "        # get the existing object\n",
    "        obj = cls.get(**get)\n",
    "        for key, value in set.items():\n",
    "            obj.__setattr__(key, value)\n",
    "        return obj\n",
    "    \n",
    "\n",
    "db.generate_mapping(create_tables=True)"
   ]
  },
  {
   "cell_type": "markdown",
   "metadata": {},
   "source": [
    "Indexing functions."
   ]
  },
  {
   "cell_type": "code",
   "execution_count": 4,
   "metadata": {},
   "outputs": [],
   "source": [
    "def index_mdf(mdf_path):\n",
    "    \"\"\" Index the mdf file itself. \"\"\"\n",
    "    info = fs.info(mdf_path)\n",
    "    # Local File\n",
    "    MDF_ = upsert(\n",
    "    cls=MDF,\n",
    "    get={\"key\": info[\"Key\"]},\n",
    "    set={\n",
    "        \"last_modified\": info[\"LastModified\"],\n",
    "        \"etag\": info[\"ETag\"],\n",
    "        \"size\": info[\"size\"],\n",
    "        \"size_mb\": info[\"size\"] / 1024 ** 2,\n",
    "        \"storage_class\": info[\"StorageClass\"],\n",
    "        \"type\": info[\"type\"],\n",
    "        \"name\": info[\"name\"],\n",
    "        \"basename\": os.path.basename(info[\"name\"])\n",
    "        },\n",
    "    )\n",
    "    try:\n",
    "        db.commit()\n",
    "        return MDF_\n",
    "    except:\n",
    "        db.rollback()\n",
    "        return None\n",
    "import asammdf\n",
    "def index_channels(mdf):\n",
    "    \"\"\"Given a MDF files, process the channels\n",
    "    \n",
    "    \"\"\"\n",
    "    # Open the MDF file.\n",
    "    with fs.open(mdf.name, \"rb\") as fid:\n",
    "        mdf_ = asammdf.MDF(fid)\n",
    "    # \n",
    "    channels=list()\n",
    "    # Loop through each of the channels in the database.\n",
    "    for channel in mdf_.channels_db.keys():\n",
    "        print(\".\", end=\"\")\n",
    "        channel_ = upsert(Channel, {\"name\": channel})\n",
    "        channels.append(channel_)\n",
    "    print(\"\")\n",
    "    MDF_ = upsert(\n",
    "    cls=MDF,\n",
    "    get={\"name\": mdf.name},\n",
    "    set={\n",
    "        \"channels\": channels\n",
    "        },\n",
    "    )\n",
    "    try:\n",
    "        db.commit()\n",
    "        return channels\n",
    "    except:\n",
    "        db.rollback()\n",
    "        return None\n",
    "        \n",
    "def index_mdf_info(mdf):\n",
    "    \"\"\" Index company and product information in the database from the filename.\"\"\"\n",
    "    product = os.path.basename(os.path.dirname(mdf.name))\n",
    "    company = os.path.basename(\n",
    "        os.path.dirname(\n",
    "            os.path.dirname(\n",
    "                mdf.name\n",
    "            )\n",
    "        )\n",
    "    )\n",
    "    # Local File\n",
    "    MDF_ = upsert(\n",
    "    cls=MDF,\n",
    "    get={\"name\": mdf.name},\n",
    "    set={\n",
    "        \"product\": product,\n",
    "        \"company\": company,\n",
    "        },\n",
    "    )\n",
    "    try:\n",
    "        db.commit()\n",
    "        return MDF_\n",
    "    except:\n",
    "        db.rollback()\n",
    "        return None"
   ]
  },
  {
   "cell_type": "code",
   "execution_count": 6,
   "metadata": {},
   "outputs": [
    {
     "name": "stdout",
     "output_type": "stream",
     "text": [
      "Found 975 MDF files\n"
     ]
    }
   ],
   "source": [
    "import os\n",
    "import random\n",
    "mdf_paths=list()\n",
    "\n",
    "\n",
    "\n",
    "s3_cfg = {\n",
    "    \"key\": \"mdf_minio_access_key\",\n",
    "    \"secret\": \"mdf_minio_secret_key\",\n",
    "    \"client_kwargs\": {\n",
    "        \"endpoint_url\": \"http://minio:9000\",\n",
    "    },\n",
    "}\n",
    "\n",
    "fs = fsspec.filesystem(\"s3\", **s3_cfg)\n",
    "for bucket in fs.ls(\"\"):\n",
    "    for root, dirs, files in fs.walk(bucket):\n",
    "        for file in files:\n",
    "            if file.lower().endswith(\".mf4\") or file.lower().endswith(\".mdf\"):\n",
    "                mdf_paths.append(os.path.join(root, file))\n",
    "print(f\"Found {len(mdf_paths)} MDF files\")"
   ]
  },
  {
   "cell_type": "markdown",
   "metadata": {},
   "source": [
    "Randomly pick a file for analysis."
   ]
  },
  {
   "cell_type": "code",
   "execution_count": 7,
   "metadata": {},
   "outputs": [
    {
     "data": {
      "text/plain": [
       "'mdfbucket-4/재벌/Bulldozer/5cef11b1-8137-4518-8b44-f8e100ec247f.mf4'"
      ]
     },
     "execution_count": 7,
     "metadata": {},
     "output_type": "execute_result"
    }
   ],
   "source": [
    "mdf_path = random.choice(mdf_paths)\n",
    "mdf_path"
   ]
  },
  {
   "cell_type": "markdown",
   "metadata": {},
   "source": [
    "Insert the MDF file into the database.\n",
    "\n",
    "[Notice the __repr__ string isn't fully populated, the data isn't yet in the database]"
   ]
  },
  {
   "cell_type": "code",
   "execution_count": 8,
   "metadata": {},
   "outputs": [
    {
     "data": {
      "text/plain": [
       "MDF<1,,,Ch:0>"
      ]
     },
     "execution_count": 8,
     "metadata": {},
     "output_type": "execute_result"
    }
   ],
   "source": [
    "mdf = index_mdf(mdf_path)\n",
    "mdf"
   ]
  },
  {
   "cell_type": "markdown",
   "metadata": {},
   "source": [
    "Index the product and company name of the mdf"
   ]
  },
  {
   "cell_type": "code",
   "execution_count": 9,
   "metadata": {},
   "outputs": [
    {
     "data": {
      "text/plain": [
       "MDF<1,Bulldozer,재벌,Ch:0>"
      ]
     },
     "execution_count": 9,
     "metadata": {},
     "output_type": "execute_result"
    }
   ],
   "source": [
    "index_mdf_info(mdf)\n",
    "mdf"
   ]
  },
  {
   "cell_type": "markdown",
   "metadata": {},
   "source": [
    "Index the channels."
   ]
  },
  {
   "cell_type": "code",
   "execution_count": null,
   "metadata": {},
   "outputs": [],
   "source": [
    "index_channels(mdf)\n",
    "mdf"
   ]
  },
  {
   "cell_type": "code",
   "execution_count": null,
   "metadata": {},
   "outputs": [],
   "source": [
    "%%timeit\n",
    "for mdf_path in mdf_paths[:10]:\n",
    "    index_mdf(mdf_path)"
   ]
  },
  {
   "cell_type": "code",
   "execution_count": null,
   "metadata": {},
   "outputs": [],
   "source": [
    "pony.orm.select(m for m in MDF)[0:10]"
   ]
  },
  {
   "cell_type": "code",
   "execution_count": null,
   "metadata": {},
   "outputs": [],
   "source": [
    "%%timeit\n",
    "for mdf in pony.orm.select(m for m in MDF)[0:10]:\n",
    "    index_mdf_info(mdf)"
   ]
  },
  {
   "cell_type": "code",
   "execution_count": null,
   "metadata": {},
   "outputs": [],
   "source": [
    "pony.orm.select(m for m in MDF)[0:10]"
   ]
  },
  {
   "cell_type": "code",
   "execution_count": null,
   "metadata": {},
   "outputs": [],
   "source": [
    "%%timeit\n",
    "for mdf in pony.orm.select(m for m in MDF)[0:10]:\n",
    "    index_channels(mdf)"
   ]
  },
  {
   "cell_type": "markdown",
   "metadata": {},
   "source": [
    "This task can easily be distributed with celery or rq\n",
    "\n",
    "[Asynchronous Task Execution In Python](https://bhavaniravi.com/blog/asynchronous-task-execution-in-python/)"
   ]
  },
  {
   "cell_type": "code",
   "execution_count": null,
   "metadata": {},
   "outputs": [],
   "source": [
    "for mdf_path in mdf_paths:\n",
    "    mdf = index_mdf(mdf_path)\n",
    "    index_mdf_info(mdf)\n",
    "    index_channels(mdf)"
   ]
  },
  {
   "cell_type": "markdown",
   "metadata": {},
   "source": [
    "# Using Indexed Data"
   ]
  },
  {
   "cell_type": "code",
   "execution_count": null,
   "metadata": {},
   "outputs": [],
   "source": [
    "channels = pony.orm.select(c for c in Channel)"
   ]
  },
  {
   "cell_type": "code",
   "execution_count": null,
   "metadata": {},
   "outputs": [],
   "source": [
    "for channel in channels:\n",
    "    break"
   ]
  },
  {
   "cell_type": "markdown",
   "metadata": {},
   "source": [
    "How many MDF files have been indexed?"
   ]
  },
  {
   "cell_type": "code",
   "execution_count": null,
   "metadata": {},
   "outputs": [],
   "source": [
    "len(channel.mdfs)"
   ]
  },
  {
   "cell_type": "markdown",
   "metadata": {},
   "source": [
    "How many bytes of MDF files have been indexed?"
   ]
  },
  {
   "cell_type": "code",
   "execution_count": null,
   "metadata": {},
   "outputs": [],
   "source": [
    "pony.orm.sum(m.size for m in MDF)"
   ]
  },
  {
   "cell_type": "markdown",
   "metadata": {},
   "source": [
    "How many GB of MDF files have been indexed?"
   ]
  },
  {
   "cell_type": "code",
   "execution_count": null,
   "metadata": {},
   "outputs": [],
   "source": [
    "pony.orm.sum(m.size for m in MDF)/1024**3"
   ]
  },
  {
   "cell_type": "markdown",
   "metadata": {},
   "source": [
    "Find the biggest MDF file to analyze:"
   ]
  },
  {
   "cell_type": "code",
   "execution_count": null,
   "metadata": {},
   "outputs": [],
   "source": [
    "q = pony.orm.select(mdf for mdf in MDF).order_by(lambda: pony.orm.desc(mdf.size))"
   ]
  },
  {
   "cell_type": "code",
   "execution_count": null,
   "metadata": {},
   "outputs": [],
   "source": [
    "q[0:5]"
   ]
  },
  {
   "cell_type": "code",
   "execution_count": null,
   "metadata": {},
   "outputs": [],
   "source": [
    "fid = fs.open(q.first().name)\n",
    "mdf_ = asammdf.MDF(fid)"
   ]
  },
  {
   "cell_type": "code",
   "execution_count": null,
   "metadata": {},
   "outputs": [],
   "source": [
    "%matplotlib inline"
   ]
  },
  {
   "cell_type": "code",
   "execution_count": null,
   "metadata": {},
   "outputs": [],
   "source": [
    "import matplotlib.pyplot as plt"
   ]
  },
  {
   "cell_type": "code",
   "execution_count": null,
   "metadata": {},
   "outputs": [],
   "source": [
    "import numpy as np"
   ]
  },
  {
   "cell_type": "code",
   "execution_count": null,
   "metadata": {},
   "outputs": [],
   "source": [
    "t = np.where(chan.timestamps<1)\n",
    "plt.plot(chan.timestamps[t], chan.samples[t])"
   ]
  }
 ],
 "metadata": {
  "kernelspec": {
   "display_name": "Python 3",
   "language": "python",
   "name": "python3"
  },
  "language_info": {
   "codemirror_mode": {
    "name": "ipython",
    "version": 3
   },
   "file_extension": ".py",
   "mimetype": "text/x-python",
   "name": "python",
   "nbconvert_exporter": "python",
   "pygments_lexer": "ipython3",
   "version": "3.7.6"
  }
 },
 "nbformat": 4,
 "nbformat_minor": 4
}
