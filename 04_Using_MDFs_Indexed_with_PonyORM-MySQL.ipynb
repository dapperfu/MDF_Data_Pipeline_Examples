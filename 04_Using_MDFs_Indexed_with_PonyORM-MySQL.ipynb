{
 "cells": [
  {
   "cell_type": "markdown",
   "metadata": {},
   "source": [
    "# Indexing MDFs with Pony ORM.\n",
    "## MySQL\n",
    "\n",
    "SQLlite is a good tool for development, but it does not scale well.\n",
    "\n",
    "In addition to SQLLite PonyORM supports PostgreSQL, MySQL, and Oracle.\n",
    "\n",
    "This example picks up from the SQLLite example but adds MySQL support.\n",
    "\n",
    "Using a MySQL (or PostreSQL/Oracle) backend will allow for distributed processing on any node that can access the s3 buckets."
   ]
  },
  {
   "cell_type": "code",
   "execution_count": 2,
   "metadata": {},
   "outputs": [],
   "source": [
    "import os\n",
    "\n",
    "import pony.orm\n",
    "from pony.orm.core import EntityMeta\n",
    "from datetime import datetime\n",
    "\n",
    "pony.orm.set_sql_debug(False)\n",
    "\n",
    "db = pony.orm.Database()\n",
    "\n",
    "db.bind(\n",
    "    provider='mysql',\n",
    "    host='mysql',\n",
    "    user='mdf_indexer_user',\n",
    "    passwd='mdf_indexer_pass',\n",
    "    db='mdf_database',\n",
    ")"
   ]
  },
  {
   "cell_type": "code",
   "execution_count": 3,
   "metadata": {},
   "outputs": [],
   "source": [
    "import asammdf\n",
    "# For Local Indexing.\n",
    "class MDF(db.Entity):\n",
    "    \"\"\"MDF ORM Entity Fancy\"\"\"\n",
    "    # Filesystem Bits.\n",
    "    key = pony.orm.Required(str, unique=True,)\n",
    "    last_modified = pony.orm.Optional(datetime, volatile=True)\n",
    "    etag = pony.orm.Optional(str,)\n",
    "    size = pony.orm.Optional(int,)\n",
    "    size_mb = pony.orm.Optional(float,)\n",
    "    storage_class = pony.orm.Optional(str,)\n",
    "    type = pony.orm.Optional(str,)\n",
    "    name = pony.orm.Optional(str,)\n",
    "    \n",
    "    # Pre-calculated bits.\n",
    "    basename = pony.orm.Optional(str,)\n",
    "    product = pony.orm.Optional(str,)\n",
    "    company = pony.orm.Optional(str,)\n",
    "\n",
    "    # ASAM MDF Bits.\n",
    "    version = pony.orm.Optional(str,)\n",
    "    channels = pony.orm.Set(\"Channel\",)\n",
    "    \n",
    "    \n",
    "    # Basename.\n",
    "    basename = pony.orm.Optional(str,)\n",
    "    channels = pony.orm.Set(\"Channel\",)\n",
    "    \n",
    "    # Metadata\n",
    "    product = pony.orm.Optional(str,)\n",
    "    company = pony.orm.Optional(str,)\n",
    "    \n",
    "    def __repr__(self):\n",
    "        return f\"MDF<{self.id},{self.product},{self.company},Ch:{len(self.channels)}>\"\n",
    "\n",
    "class Channel(db.Entity):\n",
    "    \"\"\"Channel entity to represent a \n",
    "    \n",
    "    \"\"\"\n",
    "    name = pony.orm.Required(str, unique=True,)\n",
    "    mdfs = pony.orm.Set(\"MDF\",)\n",
    "    \n",
    "    def __repr__(self):\n",
    "        return f\"Channel<{self.id},{self.name}>\"\n",
    "\n",
    "def upsert(cls, get, set=None):\n",
    "    \"\"\"\n",
    "    Interacting with Pony entities.\n",
    "\n",
    "    :param cls: The actual entity class\n",
    "    :param get: Identify the object (e.g. row) with this dictionary\n",
    "    :param set: Additional fields to set if ```get``` returns nothing.\n",
    "    :return:\n",
    "    \"\"\"\n",
    "    # does the object exist\n",
    "    assert isinstance(cls, EntityMeta), f\"{cls} is not a database entity\"\n",
    "\n",
    "    # if no set dictionary has been specified\n",
    "    set = set or {}\n",
    "    db.flush()\n",
    "    if not cls.exists(**get):\n",
    "        # make new object\n",
    "        return cls(**set, **get)\n",
    "    else:\n",
    "        # get the existing object\n",
    "        obj = cls.get(**get)\n",
    "        for key, value in set.items():\n",
    "            obj.__setattr__(key, value)\n",
    "        return obj\n",
    "    \n",
    "\n",
    "db.generate_mapping(create_tables=True)"
   ]
  },
  {
   "cell_type": "code",
   "execution_count": 5,
   "metadata": {},
   "outputs": [
    {
     "data": {
      "text/plain": [
       "MDF<1,Excavator,ABMøøse,Ch:13>"
      ]
     },
     "execution_count": 5,
     "metadata": {},
     "output_type": "execute_result"
    }
   ],
   "source": [
    "MDF.select().first()"
   ]
  },
  {
   "cell_type": "code",
   "execution_count": 9,
   "metadata": {},
   "outputs": [
    {
     "data": {
      "text/plain": [
       "Channel<1,time>"
      ]
     },
     "execution_count": 9,
     "metadata": {},
     "output_type": "execute_result"
    }
   ],
   "source": [
    "Channel.select().first()"
   ]
  },
  {
   "cell_type": "code",
   "execution_count": null,
   "metadata": {},
   "outputs": [],
   "source": []
  }
 ],
 "metadata": {
  "kernelspec": {
   "display_name": "Python 3",
   "language": "python",
   "name": "python3"
  },
  "language_info": {
   "codemirror_mode": {
    "name": "ipython",
    "version": 3
   },
   "file_extension": ".py",
   "mimetype": "text/x-python",
   "name": "python",
   "nbconvert_exporter": "python",
   "pygments_lexer": "ipython3",
   "version": "3.7.6"
  }
 },
 "nbformat": 4,
 "nbformat_minor": 4
}
