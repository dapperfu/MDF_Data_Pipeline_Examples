{
 "cells": [
  {
   "cell_type": "code",
   "execution_count": 41,
   "metadata": {},
   "outputs": [],
   "source": [
    "import asammdf\n",
    "import hashlib\n",
    "import get_files\n",
    "import pony.orm\n",
    "from pony.orm.core import EntityMeta\n",
    "from pony import orm\n",
    "import py\n",
    "import time\n",
    "\n",
    "pony.orm.set_sql_debug(False)"
   ]
  },
  {
   "cell_type": "code",
   "execution_count": 42,
   "metadata": {},
   "outputs": [],
   "source": [
    "db = pony.orm.Database()\n",
    "db.bind(\n",
    "    provider='sqlite',\n",
    "    filename=':memory:',\n",
    ")\n",
    "\n",
    "class MDF(db.Entity):\n",
    "    name = pony.orm.Required(\n",
    "        str,\n",
    "    )\n",
    "    version = pony.orm.Required(\n",
    "        str,\n",
    "    )\n",
    "    sha256 = pony.orm.Required(\n",
    "        str, \n",
    "    )\n",
    "    size = pony.orm.Optional(\n",
    "        int, \n",
    "    )\n",
    "    size_mb = pony.orm.Optional(\n",
    "        float, \n",
    "    )\n",
    "    atime = pony.orm.Optional(\n",
    "        float,\n",
    "    )\n",
    "    channels = pony.orm.Set(\n",
    "        'Channel',\n",
    "    )\n",
    "    \n",
    "class Channel(db.Entity):\n",
    "    name = pony.orm.Required(\n",
    "        str,\n",
    "        unique=True,\n",
    "    )\n",
    "    mdfs = pony.orm.Set(\n",
    "        \"MDF\",\n",
    "    )\n",
    "db.generate_mapping(create_tables=True)"
   ]
  },
  {
   "cell_type": "code",
   "execution_count": 43,
   "metadata": {},
   "outputs": [],
   "source": [
    "def upsert(cls, get, set=None):\n",
    "    \"\"\"\n",
    "    Interacting with Pony entities.\n",
    "\n",
    "    :param cls: The actual entity class\n",
    "    :param get: Identify the object (e.g. row) with this dictionary\n",
    "    :param set: \n",
    "    :return:\n",
    "    \"\"\"\n",
    "    # does the object exist\n",
    "    assert isinstance(cls, EntityMeta), \"{cls} is not a database entity\".format(cls=cls)\n",
    "\n",
    "    # if no set dictionary has been specified\n",
    "    set = set or {}\n",
    "\n",
    "    if not cls.exists(**get):\n",
    "        # make new object\n",
    "        return cls(**set, **get)\n",
    "    else:\n",
    "        # get the existing object\n",
    "        obj = cls.get(**get)\n",
    "        for key, value in set.items():\n",
    "            obj.__setattr__(key, value)\n",
    "        return obj"
   ]
  },
  {
   "cell_type": "code",
   "execution_count": 44,
   "metadata": {},
   "outputs": [],
   "source": [
    "data_files = get_files.get_files(\n",
    "    directory=\"../Data/\",\n",
    "    extensions=[\".mdf\", \".mf4\"],\n",
    ")"
   ]
  },
  {
   "cell_type": "code",
   "execution_count": 51,
   "metadata": {},
   "outputs": [],
   "source": [
    "def index_data_file(data_file):\n",
    "    data_file_ = py.path.local(\n",
    "        path=data_file,\n",
    "    )\n",
    "    \n",
    "    mdf = asammdf.MDF(data_file)\n",
    "\n",
    "    channels = list()\n",
    "    mdf.channels_db.keys()\n",
    "    for channel in mdf.channels_db.keys():\n",
    "        channel_ = upsert(Channel, {\"name\": channel})\n",
    "        channels.append(channel_)\n",
    "\n",
    "    sha256 = data_file_.computehash(\n",
    "        hashtype=\"sha256\",\n",
    "    )\n",
    "        \n",
    "    MDF_ = upsert(\n",
    "        cls=MDF,\n",
    "        get={\"sha256\": sha256},\n",
    "        set={\n",
    "            \"name\": data_file_.basename,\n",
    "            \"version\": mdf.version,\n",
    "            \"size\": data_file_.size(),\n",
    "            \"size_mb\": data_file_.size()/1024 ** 2,\n",
    "            \"atime\": data_file_.atime(),            \n",
    "            \"channels\": channels,\n",
    "        },\n",
    "    )\n",
    "\n",
    "    db.commit()\n",
    "    \n",
    "    return MDF_"
   ]
  },
  {
   "cell_type": "code",
   "execution_count": 52,
   "metadata": {},
   "outputs": [
    {
     "data": {
      "text/plain": [
       "MDF[1]"
      ]
     },
     "execution_count": 52,
     "metadata": {},
     "output_type": "execute_result"
    }
   ],
   "source": [
    "for data_file in data_files:\n",
    "    break\n",
    "\n",
    "index_data_file(\n",
    "    data_file=data_file,\n",
    ")"
   ]
  },
  {
   "cell_type": "code",
   "execution_count": 53,
   "metadata": {},
   "outputs": [
    {
     "name": "stdout",
     "output_type": "stream",
     "text": [
      "Elapsed Indexing Time: 13.095877885818481\n"
     ]
    }
   ],
   "source": [
    "t1=time.time()\n",
    "for data_file in data_files:\n",
    "    index_data_file(\n",
    "        data_file=data_file,\n",
    "    )\n",
    "t2=time.time()\n",
    "\n",
    "print(\"Elapsed Indexing Time: {}\".format(t2-t1))"
   ]
  },
  {
   "cell_type": "code",
   "execution_count": 56,
   "metadata": {},
   "outputs": [],
   "source": [
    "for mdf in MDF.select():\n",
    "    break"
   ]
  },
  {
   "cell_type": "code",
   "execution_count": 58,
   "metadata": {},
   "outputs": [
    {
     "data": {
      "text/plain": [
       "'38d1dc4f-8008-4a00-a8cd-eb57dab9ce4b.mdf'"
      ]
     },
     "execution_count": 58,
     "metadata": {},
     "output_type": "execute_result"
    }
   ],
   "source": [
    "mdf.name"
   ]
  },
  {
   "cell_type": "code",
   "execution_count": 59,
   "metadata": {},
   "outputs": [
    {
     "data": {
      "text/plain": [
       "'3.30'"
      ]
     },
     "execution_count": 59,
     "metadata": {},
     "output_type": "execute_result"
    }
   ],
   "source": [
    "mdf.version"
   ]
  },
  {
   "cell_type": "code",
   "execution_count": 63,
   "metadata": {},
   "outputs": [
    {
     "data": {
      "text/plain": [
       "True"
      ]
     },
     "execution_count": 63,
     "metadata": {},
     "output_type": "execute_result"
    }
   ],
   "source": [
    "\"engine_speed\" in mdf.channels.name"
   ]
  }
 ],
 "metadata": {
  "kernelspec": {
   "display_name": "Python 3",
   "language": "python",
   "name": "python3"
  },
  "language_info": {
   "codemirror_mode": {
    "name": "ipython",
    "version": 3
   },
   "file_extension": ".py",
   "mimetype": "text/x-python",
   "name": "python",
   "nbconvert_exporter": "python",
   "pygments_lexer": "ipython3",
   "version": "3.5.2"
  }
 },
 "nbformat": 4,
 "nbformat_minor": 2
}
