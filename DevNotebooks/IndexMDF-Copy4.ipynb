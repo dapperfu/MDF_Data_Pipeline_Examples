{
 "cells": [
  {
   "cell_type": "markdown",
   "metadata": {},
   "source": [
    "# PonyORM MDF Indexer"
   ]
  },
  {
   "cell_type": "markdown",
   "metadata": {},
   "source": [
    "### Imports"
   ]
  },
  {
   "cell_type": "code",
   "execution_count": 1,
   "metadata": {},
   "outputs": [
    {
     "ename": "ModuleNotFoundError",
     "evalue": "No module named 'asammdf'",
     "output_type": "error",
     "traceback": [
      "\u001b[0;31m---------------------------------------------------------------------------\u001b[0m",
      "\u001b[0;31mModuleNotFoundError\u001b[0m                       Traceback (most recent call last)",
      "\u001b[0;32m<ipython-input-1-5d07bf5d9687>\u001b[0m in \u001b[0;36m<module>\u001b[0;34m()\u001b[0m\n\u001b[0;32m----> 1\u001b[0;31m \u001b[0;32mimport\u001b[0m \u001b[0masammdf\u001b[0m\u001b[0;34m\u001b[0m\u001b[0m\n\u001b[0m\u001b[1;32m      2\u001b[0m \u001b[0;32mimport\u001b[0m \u001b[0mhashlib\u001b[0m\u001b[0;34m\u001b[0m\u001b[0m\n\u001b[1;32m      3\u001b[0m \u001b[0;32mimport\u001b[0m \u001b[0mget_files\u001b[0m\u001b[0;34m\u001b[0m\u001b[0m\n\u001b[1;32m      4\u001b[0m \u001b[0;32mimport\u001b[0m \u001b[0mpony\u001b[0m\u001b[0;34m.\u001b[0m\u001b[0morm\u001b[0m\u001b[0;34m\u001b[0m\u001b[0m\n\u001b[1;32m      5\u001b[0m \u001b[0;32mfrom\u001b[0m \u001b[0mpony\u001b[0m\u001b[0;34m.\u001b[0m\u001b[0morm\u001b[0m\u001b[0;34m.\u001b[0m\u001b[0mcore\u001b[0m \u001b[0;32mimport\u001b[0m \u001b[0mEntityMeta\u001b[0m\u001b[0;34m\u001b[0m\u001b[0m\n",
      "\u001b[0;31mModuleNotFoundError\u001b[0m: No module named 'asammdf'"
     ]
    }
   ],
   "source": [
    "import asammdf\n",
    "import hashlib\n",
    "import get_files\n",
    "import pony.orm\n",
    "from pony.orm.core import EntityMeta\n",
    "from pony import orm\n",
    "import py\n",
    "import time\n",
    "import os\n",
    "\n",
    "pony.orm.set_sql_debug(False)"
   ]
  },
  {
   "cell_type": "markdown",
   "metadata": {},
   "source": [
    "# Database Setup"
   ]
  },
  {
   "cell_type": "code",
   "execution_count": 2,
   "metadata": {},
   "outputs": [],
   "source": [
    "db = pony.orm.Database()\n",
    "\n",
    "\n",
    "database_file = os.path.abspath('mdf_index.sqlite')\n",
    "\n",
    "db.bind(\n",
    "    provider='sqlite',\n",
    "    filename=database_file,\n",
    "    create_db=True,\n",
    ")\n",
    "\n",
    "class MDF(db.Entity):\n",
    "    name = pony.orm.Required(\n",
    "        str,\n",
    "    )\n",
    "    version = pony.orm.Required(\n",
    "        str,\n",
    "    )\n",
    "    sha256 = pony.orm.Required(\n",
    "        str, \n",
    "    )\n",
    "    size = pony.orm.Optional(\n",
    "        int, \n",
    "    )\n",
    "    size_mb = pony.orm.Optional(\n",
    "        float, \n",
    "    )\n",
    "    atime = pony.orm.Optional(\n",
    "        float,\n",
    "    )\n",
    "    channels = pony.orm.Set(\n",
    "        'Channel',\n",
    "    )\n",
    "    \n",
    "class Channel(db.Entity):\n",
    "    name = pony.orm.Required(\n",
    "        str,\n",
    "        unique=True,\n",
    "    )\n",
    "    mdfs = pony.orm.Set(\n",
    "        \"MDF\",\n",
    "    )\n",
    "db.generate_mapping(create_tables=True)"
   ]
  },
  {
   "cell_type": "markdown",
   "metadata": {},
   "source": [
    "# Helper Functions"
   ]
  },
  {
   "cell_type": "code",
   "execution_count": 3,
   "metadata": {},
   "outputs": [],
   "source": [
    "def upsert(cls, get, set=None):\n",
    "    \"\"\"\n",
    "    Interacting with Pony entities.\n",
    "\n",
    "    :param cls: The actual entity class\n",
    "    :param get: Identify the object (e.g. row) with this dictionary\n",
    "    :param set: Additional fields to set if ```get``` returns nothing.\n",
    "    :return:\n",
    "    \"\"\"\n",
    "    # does the object exist\n",
    "    assert isinstance(cls, EntityMeta), \"{cls} is not a database entity\".format(cls=cls)\n",
    "\n",
    "    # if no set dictionary has been specified\n",
    "    set = set or {}\n",
    "\n",
    "    if not cls.exists(**get):\n",
    "        # make new object\n",
    "        return cls(**set, **get)\n",
    "    else:\n",
    "        # get the existing object\n",
    "        obj = cls.get(**get)\n",
    "        for key, value in set.items():\n",
    "            obj.__setattr__(key, value)\n",
    "        return obj\n",
    "\n",
    "\n",
    "channels_cache = {}\n",
    "\n",
    "def index_data_file(data_file):\n",
    "    \"\"\"Index ASAMMDF Data File\n",
    "\n",
    "    :param data_file: Path to ASAM MDF data file\n",
    "    :return MDF: PonyORM MDF class\n",
    "    \"\"\"\n",
    "    data_file_ = py.path.local(\n",
    "        path=data_file,\n",
    "    )\n",
    "    \n",
    "    mdf = asammdf.MDF(data_file)\n",
    "\n",
    "    channels = list()\n",
    "    mdf.channels_db.keys()\n",
    "    for channel in mdf.channels_db.keys():\n",
    "        if channel in channels_cache:\n",
    "            channel_ = channels_cache[channel]\n",
    "        else:\n",
    "            channel_ = upsert(Channel, {\"name\": channel})\n",
    "            channels_cache[channel] = channel_\n",
    "        \n",
    "        channels.append(channel_)\n",
    "\n",
    "    sha256 = data_file_.computehash(\n",
    "        hashtype=\"sha256\",\n",
    "    )\n",
    "        \n",
    "    MDF_ = upsert(\n",
    "        cls=MDF,\n",
    "        get={\"sha256\": sha256},\n",
    "        set={\n",
    "            \"name\": data_file_.basename,\n",
    "            \"version\": mdf.version,\n",
    "            \"size\": data_file_.size(),\n",
    "            \"size_mb\": data_file_.size()/1024 ** 2,\n",
    "            \"atime\": data_file_.atime(),            \n",
    "            \"channels\": channels,\n",
    "        },\n",
    "    )\n",
    "\n",
    "    db.commit()\n",
    "    \n",
    "    return MDF_"
   ]
  },
  {
   "cell_type": "code",
   "execution_count": null,
   "metadata": {},
   "outputs": [],
   "source": [
    "data_files = get_files.get_files(\n",
    "    directory=\"../Data/\",\n",
    "    extensions=[\".mdf\", \".mf4\"],\n",
    ")\n",
    "\n",
    "t1=time.time()\n",
    "for data_file in data_files:\n",
    "    index_data_file(\n",
    "        data_file=data_file,\n",
    "    )\n",
    "t2=time.time()\n",
    "\n",
    "print(\"Elapsed Indexing Time: {}\".format(t2-t1))"
   ]
  }
 ],
 "metadata": {
  "kernelspec": {
   "display_name": "Python 3",
   "language": "python",
   "name": "python3"
  },
  "language_info": {
   "codemirror_mode": {
    "name": "ipython",
    "version": 3
   },
   "file_extension": ".py",
   "mimetype": "text/x-python",
   "name": "python",
   "nbconvert_exporter": "python",
   "pygments_lexer": "ipython3",
   "version": "3.6.6"
  }
 },
 "nbformat": 4,
 "nbformat_minor": 2
}
