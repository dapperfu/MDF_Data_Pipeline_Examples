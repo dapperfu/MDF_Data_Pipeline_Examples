{
 "cells": [
  {
   "cell_type": "markdown",
   "metadata": {},
   "source": [
    "# PonyORM MDF Indexer"
   ]
  },
  {
   "cell_type": "markdown",
   "metadata": {},
   "source": [
    "### Imports"
   ]
  },
  {
   "cell_type": "code",
   "execution_count": 45,
   "metadata": {},
   "outputs": [],
   "source": [
    "import asammdf\n",
    "import hashlib\n",
    "import get_files\n",
    "import pony.orm\n",
    "from pony.orm.core import EntityMeta\n",
    "from pony import orm\n",
    "import py\n",
    "import time\n",
    "import os\n",
    "import configparser\n",
    "\n",
    "pony.orm.set_sql_debug(False)"
   ]
  },
  {
   "cell_type": "code",
   "execution_count": 46,
   "metadata": {},
   "outputs": [],
   "source": [
    "config = configparser.ConfigParser()\n",
    "config.read('../config.ini')\n",
    "\n",
    "\n",
    "db = pony.orm.Database(provider=\"mysql\",\n",
    "                 host=config[\"mysql\"][\"host\"],\n",
    "                 user=config[\"mysql\"][\"user\"],\n",
    "                 passwd=config[\"mysql\"][\"pass\"],\n",
    "                 db=config[\"mysql\"][\"db\"])\n",
    "db.generate_mapping()\n",
    "db.drop_all_tables()"
   ]
  },
  {
   "cell_type": "markdown",
   "metadata": {},
   "source": [
    "# Database Setup"
   ]
  },
  {
   "cell_type": "code",
   "execution_count": 47,
   "metadata": {},
   "outputs": [],
   "source": [
    "db = pony.orm.Database(provider=\"mysql\",\n",
    "                 host=config[\"mysql\"][\"host\"],\n",
    "                 user=config[\"mysql\"][\"user\"],\n",
    "                 passwd=config[\"mysql\"][\"pass\"],\n",
    "                 db=config[\"mysql\"][\"db\"])"
   ]
  },
  {
   "cell_type": "code",
   "execution_count": 48,
   "metadata": {},
   "outputs": [],
   "source": [
    "class MDF(db.Entity):\n",
    "    name = pony.orm.Required(\n",
    "        str,\n",
    "    )\n",
    "    version = pony.orm.Required(\n",
    "        str,\n",
    "    )\n",
    "    sha256 = pony.orm.Required(\n",
    "        str, \n",
    "        unique=True,\n",
    "    )\n",
    "    size = pony.orm.Optional(\n",
    "        int, \n",
    "    )\n",
    "    size_mb = pony.orm.Optional(\n",
    "        float, \n",
    "    )\n",
    "    atime = pony.orm.Optional(\n",
    "        float,\n",
    "    )\n",
    "    channels = pony.orm.Set(\n",
    "        'Channel',\n",
    "    )\n",
    "    def __repr__(self):\n",
    "        return \"MDF<{}>\".format(self.name)\n",
    "    \n",
    "    \n",
    "class Channel(db.Entity):\n",
    "    name = pony.orm.Required(\n",
    "        str,\n",
    "        unique=True,\n",
    "    )\n",
    "    mdfs = pony.orm.Set(\n",
    "        \"MDF\",\n",
    "    )\n",
    "    def __repr__(self):\n",
    "        return \"Channel<{}>\".format(self.name)\n",
    "        \n",
    "db.generate_mapping(create_tables=True)"
   ]
  },
  {
   "cell_type": "markdown",
   "metadata": {},
   "source": [
    "# Helper Functions"
   ]
  },
  {
   "cell_type": "code",
   "execution_count": 49,
   "metadata": {},
   "outputs": [],
   "source": [
    "def upsert(cls, get, set=None):\n",
    "    \"\"\"\n",
    "    Interacting with Pony entities.\n",
    "\n",
    "    :param cls: The actual entity class\n",
    "    :param get: Identify the object (e.g. row) with this dictionary\n",
    "    :param set: Additional fields to set if ```get``` returns nothing.\n",
    "    :return:\n",
    "    \"\"\"\n",
    "    # does the object exist\n",
    "    assert isinstance(cls, EntityMeta), \"{cls} is not a database entity\".format(cls=cls)\n",
    "\n",
    "    # if no set dictionary has been specified\n",
    "    set = set or {}\n",
    "\n",
    "    if not cls.exists(**get):\n",
    "        # make new object\n",
    "        return cls(**set, **get)\n",
    "    else:\n",
    "        # get the existing object\n",
    "        obj = cls.get(**get)\n",
    "        for key, value in set.items():\n",
    "            obj.__setattr__(key, value)\n",
    "        return obj\n",
    "\n",
    "\n",
    "channels_cache = {}\n",
    "\n",
    "def index_data_file(data_file):\n",
    "    \"\"\"Index ASAMMDF Data File\n",
    "\n",
    "    :param data_file: Path to ASAM MDF data file\n",
    "    :return MDF: PonyORM MDF class\n",
    "    \"\"\"\n",
    "    data_file_ = py.path.local(\n",
    "        path=data_file,\n",
    "    )\n",
    "    \n",
    "    mdf = asammdf.MDF(data_file)\n",
    "\n",
    "    channels = list()\n",
    "    mdf.channels_db.keys()\n",
    "    for channel in mdf.channels_db.keys():\n",
    "        if channel in channels_cache:\n",
    "            channel_ = channels_cache[channel]\n",
    "        else:\n",
    "            channel_ = upsert(Channel, {\"name\": channel})\n",
    "            channels_cache[channel] = channel_\n",
    "            db.commit()\n",
    "        \n",
    "        channels.append(channel_)\n",
    "\n",
    "    sha256 = data_file_.computehash(\n",
    "        hashtype=\"sha256\",\n",
    "    )\n",
    "        \n",
    "    MDF_ = upsert(\n",
    "        cls=MDF,\n",
    "        get={\"sha256\": sha256},\n",
    "        set={\n",
    "            \"name\": data_file_.basename,\n",
    "            \"version\": mdf.version,\n",
    "            \"size\": data_file_.size(),\n",
    "            \"size_mb\": data_file_.size()/1024 ** 2,\n",
    "            \"atime\": data_file_.atime(),            \n",
    "            \"channels\": channels,\n",
    "        },\n",
    "    )\n",
    "\n",
    "    db.commit()\n",
    "    \n",
    "    return MDF_"
   ]
  },
  {
   "cell_type": "code",
   "execution_count": 50,
   "metadata": {},
   "outputs": [],
   "source": [
    "data_files = get_files.get_files(\n",
    "    directory=\"../Data/\",\n",
    "    extensions=[\".mdf\", \".mf4\"],\n",
    ")"
   ]
  },
  {
   "cell_type": "code",
   "execution_count": 51,
   "metadata": {},
   "outputs": [],
   "source": [
    "for data_file in data_files:\n",
    "    break    "
   ]
  },
  {
   "cell_type": "code",
   "execution_count": 52,
   "metadata": {},
   "outputs": [
    {
     "name": "stdout",
     "output_type": "stream",
     "text": [
      "Elapsed Indexing Time: 0.14333391189575195\n"
     ]
    }
   ],
   "source": [
    "t1=time.time()\n",
    "M = index_data_file(\n",
    "    data_file=data_file,\n",
    ")\n",
    "t2=time.time()\n",
    "\n",
    "print(\"Elapsed Indexing Time: {}\".format(t2-t1))"
   ]
  },
  {
   "cell_type": "code",
   "execution_count": 53,
   "metadata": {},
   "outputs": [
    {
     "data": {
      "text/plain": [
       "[Channel<longitude>,\n",
       " Channel<Time>,\n",
       " Channel<efficiency>,\n",
       " Channel<vehicle_speed>,\n",
       " Channel<latitude>,\n",
       " Channel<Y>,\n",
       " Channel<coolant_temp>,\n",
       " Channel<engine_speed_desired>,\n",
       " Channel<power>,\n",
       " Channel<engine_speed>,\n",
       " Channel<transmission_gear>,\n",
       " Channel<X>]"
      ]
     },
     "execution_count": 53,
     "metadata": {},
     "output_type": "execute_result"
    }
   ],
   "source": [
    "list(M.channels)"
   ]
  },
  {
   "cell_type": "code",
   "execution_count": 55,
   "metadata": {},
   "outputs": [
    {
     "data": {
      "text/plain": [
       "MDF<62a4dd46-af73-46ce-8947-ff9370d17e32.mdf>"
      ]
     },
     "execution_count": 55,
     "metadata": {},
     "output_type": "execute_result"
    }
   ],
   "source": [
    "M"
   ]
  },
  {
   "cell_type": "code",
   "execution_count": 54,
   "metadata": {
    "scrolled": true
   },
   "outputs": [
    {
     "data": {
      "text/plain": [
       "'5788f2aafbc02f386aec42398706568354fbaece6d1552017b20cec862774579'"
      ]
     },
     "execution_count": 54,
     "metadata": {},
     "output_type": "execute_result"
    }
   ],
   "source": [
    "M.sha256"
   ]
  },
  {
   "cell_type": "code",
   "execution_count": 64,
   "metadata": {},
   "outputs": [
    {
     "data": {
      "text/plain": [
       "12"
      ]
     },
     "execution_count": 64,
     "metadata": {},
     "output_type": "execute_result"
    }
   ],
   "source": [
    "len(M.channels)"
   ]
  },
  {
   "cell_type": "code",
   "execution_count": 67,
   "metadata": {},
   "outputs": [
    {
     "data": {
      "text/plain": [
       "12"
      ]
     },
     "execution_count": 67,
     "metadata": {},
     "output_type": "execute_result"
    }
   ],
   "source": [
    "M.channels.count()"
   ]
  },
  {
   "cell_type": "code",
   "execution_count": 71,
   "metadata": {},
   "outputs": [],
   "source": [
    "q = M.channels.select()"
   ]
  },
  {
   "cell_type": "code",
   "execution_count": 75,
   "metadata": {},
   "outputs": [
    {
     "name": "stdout",
     "output_type": "stream",
     "text": [
      "id|name                \n",
      "--+--------------------\n",
      "7 |coolant_temp        \n",
      "10|efficiency          \n",
      "8 |engine_speed        \n",
      "5 |engine_speed_desired\n",
      "9 |latitude            \n",
      "3 |longitude           \n",
      "6 |power               \n",
      "1 |Time                \n",
      "12|transmission_gear   \n",
      "11|vehicle_speed       \n",
      "2 |X                   \n",
      "4 |Y                   \n"
     ]
    }
   ],
   "source": [
    "q.show()"
   ]
  },
  {
   "cell_type": "code",
   "execution_count": 78,
   "metadata": {},
   "outputs": [
    {
     "name": "stdout",
     "output_type": "stream",
     "text": [
      "Elapsed Indexing Time: 34.014471769332886\n"
     ]
    }
   ],
   "source": [
    "t1=time.time()\n",
    "for data_file in data_files:\n",
    "    M = index_data_file(\n",
    "        data_file=data_file,\n",
    "    )\n",
    "t2=time.time()\n",
    "\n",
    "print(\"Elapsed Indexing Time: {}\".format(t2-t1))    "
   ]
  },
  {
   "cell_type": "code",
   "execution_count": 90,
   "metadata": {},
   "outputs": [],
   "source": [
    "mdfs = MDF.select()"
   ]
  },
  {
   "cell_type": "code",
   "execution_count": 91,
   "metadata": {},
   "outputs": [
    {
     "data": {
      "text/plain": [
       "1000"
      ]
     },
     "execution_count": 91,
     "metadata": {},
     "output_type": "execute_result"
    }
   ],
   "source": [
    "mdfs.count()"
   ]
  },
  {
   "cell_type": "code",
   "execution_count": 95,
   "metadata": {},
   "outputs": [],
   "source": [
    "for mdf in mdfs:"
   ]
  },
  {
   "cell_type": "code",
   "execution_count": 98,
   "metadata": {},
   "outputs": [
    {
     "data": {
      "text/plain": [
       "0.9199695587158203"
      ]
     },
     "execution_count": 98,
     "metadata": {},
     "output_type": "execute_result"
    }
   ],
   "source": [
    "mdf.size_mb"
   ]
  },
  {
   "cell_type": "code",
   "execution_count": 104,
   "metadata": {},
   "outputs": [],
   "source": [
    "channels = pony.orm.select(channel for channel in Channel if 'eng' in channel.name)"
   ]
  },
  {
   "cell_type": "code",
   "execution_count": 108,
   "metadata": {},
   "outputs": [
    {
     "data": {
      "text/plain": [
       "[Channel<engine_speed>, Channel<engine_speed_desired>]"
      ]
     },
     "execution_count": 108,
     "metadata": {},
     "output_type": "execute_result"
    }
   ],
   "source": [
    "list(channels)"
   ]
  },
  {
   "cell_type": "code",
   "execution_count": 121,
   "metadata": {},
   "outputs": [],
   "source": [
    "f = list(pony.orm.select(mdf for mdf in MDF).order_by(MDF.size))"
   ]
  },
  {
   "cell_type": "code",
   "execution_count": 122,
   "metadata": {},
   "outputs": [
    {
     "data": {
      "text/plain": [
       "0.003631591796875"
      ]
     },
     "execution_count": 122,
     "metadata": {},
     "output_type": "execute_result"
    }
   ],
   "source": [
    "f[0].size_mb"
   ]
  },
  {
   "cell_type": "code",
   "execution_count": 126,
   "metadata": {},
   "outputs": [
    {
     "data": {
      "text/plain": [
       "[Channel<X>,\n",
       " Channel<longitude>,\n",
       " Channel<efficiency>,\n",
       " Channel<Time>,\n",
       " Channel<vehicle_speed>,\n",
       " Channel<Y>,\n",
       " Channel<coolant_temp>,\n",
       " Channel<power>,\n",
       " Channel<engine_speed_desired>,\n",
       " Channel<engine_speed>,\n",
       " Channel<transmission_gear>,\n",
       " Channel<latitude>]"
      ]
     },
     "execution_count": 126,
     "metadata": {},
     "output_type": "execute_result"
    }
   ],
   "source": [
    "list(f[0].channels)"
   ]
  },
  {
   "cell_type": "code",
   "execution_count": 123,
   "metadata": {},
   "outputs": [
    {
     "data": {
      "text/plain": [
       "0.9199733734130859"
      ]
     },
     "execution_count": 123,
     "metadata": {},
     "output_type": "execute_result"
    }
   ],
   "source": [
    "f[-1].size_mb"
   ]
  },
  {
   "cell_type": "code",
   "execution_count": 125,
   "metadata": {},
   "outputs": [
    {
     "data": {
      "text/plain": [
       "[Channel<longitude>,\n",
       " Channel<Time>,\n",
       " Channel<efficiency>,\n",
       " Channel<vehicle_speed>,\n",
       " Channel<latitude>,\n",
       " Channel<Y>,\n",
       " Channel<coolant_temp>,\n",
       " Channel<engine_speed_desired>,\n",
       " Channel<power>,\n",
       " Channel<engine_speed>,\n",
       " Channel<transmission_gear>,\n",
       " Channel<X>]"
      ]
     },
     "execution_count": 125,
     "metadata": {},
     "output_type": "execute_result"
    }
   ],
   "source": [
    "list(f[-1].channels)"
   ]
  },
  {
   "cell_type": "code",
   "execution_count": null,
   "metadata": {},
   "outputs": [],
   "source": []
  }
 ],
 "metadata": {
  "kernelspec": {
   "display_name": "Python 3",
   "language": "python",
   "name": "python3"
  },
  "language_info": {
   "codemirror_mode": {
    "name": "ipython",
    "version": 3
   },
   "file_extension": ".py",
   "mimetype": "text/x-python",
   "name": "python",
   "nbconvert_exporter": "python",
   "pygments_lexer": "ipython3",
   "version": "3.6.7"
  }
 },
 "nbformat": 4,
 "nbformat_minor": 2
}
