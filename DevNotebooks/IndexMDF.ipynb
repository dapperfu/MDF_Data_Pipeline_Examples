{
 "cells": [
  {
   "cell_type": "code",
   "execution_count": 1,
   "metadata": {},
   "outputs": [],
   "source": [
    "import asammdf\n",
    "import hashlib"
   ]
  },
  {
   "cell_type": "code",
   "execution_count": 2,
   "metadata": {},
   "outputs": [],
   "source": [
    "import pony.orm"
   ]
  },
  {
   "cell_type": "code",
   "execution_count": 3,
   "metadata": {},
   "outputs": [],
   "source": [
    "pony.orm.set_sql_debug(True)"
   ]
  },
  {
   "cell_type": "code",
   "execution_count": 22,
   "metadata": {},
   "outputs": [
    {
     "name": "stdout",
     "output_type": "stream",
     "text": [
      "GET NEW CONNECTION\n",
      "RELEASE CONNECTION\n",
      "GET CONNECTION FROM THE LOCAL POOL\n",
      "PRAGMA foreign_keys = false\n",
      "BEGIN IMMEDIATE TRANSACTION\n",
      "CREATE TABLE \"Channel\" (\n",
      "  \"id\" INTEGER PRIMARY KEY AUTOINCREMENT,\n",
      "  \"name\" TEXT UNIQUE NOT NULL\n",
      ")\n",
      "\n",
      "CREATE TABLE \"MDF\" (\n",
      "  \"id\" INTEGER PRIMARY KEY AUTOINCREMENT,\n",
      "  \"name\" TEXT NOT NULL,\n",
      "  \"version\" TEXT NOT NULL,\n",
      "  \"sha256\" TEXT UNIQUE NOT NULL,\n",
      "  \"md5\" TEXT UNIQUE NOT NULL\n",
      ")\n",
      "\n",
      "CREATE TABLE \"Channel_MDF\" (\n",
      "  \"channel\" INTEGER NOT NULL REFERENCES \"Channel\" (\"id\"),\n",
      "  \"mdf\" INTEGER NOT NULL REFERENCES \"MDF\" (\"id\"),\n",
      "  PRIMARY KEY (\"channel\", \"mdf\")\n",
      ")\n",
      "\n",
      "CREATE INDEX \"idx_channel_mdf\" ON \"Channel_MDF\" (\"mdf\")\n",
      "\n",
      "SELECT \"Channel\".\"id\", \"Channel\".\"name\"\n",
      "FROM \"Channel\" \"Channel\"\n",
      "WHERE 0 = 1\n",
      "\n",
      "SELECT \"Channel_MDF\".\"channel\", \"Channel_MDF\".\"mdf\"\n",
      "FROM \"Channel_MDF\" \"Channel_MDF\"\n",
      "WHERE 0 = 1\n",
      "\n",
      "SELECT \"MDF\".\"id\", \"MDF\".\"name\", \"MDF\".\"version\", \"MDF\".\"sha256\", \"MDF\".\"md5\"\n",
      "FROM \"MDF\" \"MDF\"\n",
      "WHERE 0 = 1\n",
      "\n",
      "COMMIT\n",
      "PRAGMA foreign_keys = true\n",
      "CLOSE CONNECTION\n",
      "RELEASE CONNECTION\n"
     ]
    }
   ],
   "source": [
    "db = pony.orm.Database()\n",
    "db.bind(provider='sqlite', filename=':memory:')\n",
    "\n",
    "class MDF(db.Entity):\n",
    "    name = pony.orm.Required(\n",
    "        str,\n",
    "    )\n",
    "    version = pony.orm.Required(\n",
    "        str,\n",
    "    )\n",
    "    sha256 = pony.orm.Required(\n",
    "        str, \n",
    "        unique=True,\n",
    "    )\n",
    "    md5 = pony.orm.Required(\n",
    "        str,\n",
    "        unique=True,\n",
    "    )\n",
    "    channels = pony.orm.Set(\n",
    "        'Channel',\n",
    "    )\n",
    "    \n",
    "class Channel(db.Entity):\n",
    "    name = pony.orm.Required(\n",
    "        str,\n",
    "        unique=True,\n",
    "    )\n",
    "    mdfs = pony.orm.Set(\n",
    "        \"MDF\",\n",
    "    )\n",
    "\n",
    "db.generate_mapping(create_tables=True)"
   ]
  },
  {
   "cell_type": "code",
   "execution_count": 23,
   "metadata": {},
   "outputs": [],
   "source": [
    "import get_files"
   ]
  },
  {
   "cell_type": "code",
   "execution_count": 24,
   "metadata": {},
   "outputs": [],
   "source": [
    "data_files = get_files.get_files(\n",
    "    directory=\"../Data/\",\n",
    "    extensions=[\".mdf\", \".mf4\"],\n",
    ")"
   ]
  },
  {
   "cell_type": "code",
   "execution_count": 25,
   "metadata": {},
   "outputs": [],
   "source": [
    "for data_file in data_files:\n",
    "    break"
   ]
  },
  {
   "cell_type": "code",
   "execution_count": 26,
   "metadata": {},
   "outputs": [],
   "source": [
    "with open(data_file, \"rb\") as fid:\n",
    "    sha256 = hashlib.sha256(fid.read()).hexdigest()\n",
    "    md5 = hashlib.md5(fid.read()).hexdigest()"
   ]
  },
  {
   "cell_type": "code",
   "execution_count": 27,
   "metadata": {},
   "outputs": [],
   "source": [
    "mdf = asammdf.MDF(data_file)"
   ]
  },
  {
   "cell_type": "code",
   "execution_count": 28,
   "metadata": {},
   "outputs": [
    {
     "data": {
      "text/plain": [
       "'3.00'"
      ]
     },
     "execution_count": 28,
     "metadata": {},
     "output_type": "execute_result"
    }
   ],
   "source": [
    "mdf.version"
   ]
  },
  {
   "cell_type": "code",
   "execution_count": 29,
   "metadata": {},
   "outputs": [
    {
     "name": "stdout",
     "output_type": "stream",
     "text": [
      "GET CONNECTION FROM THE LOCAL POOL\n",
      "BEGIN IMMEDIATE TRANSACTION\n",
      "INSERT INTO \"Channel\" (\"name\") VALUES (?)\n",
      "['efficiency']\n",
      "\n",
      "INSERT INTO \"Channel\" (\"name\") VALUES (?)\n",
      "['X']\n",
      "\n",
      "INSERT INTO \"Channel\" (\"name\") VALUES (?)\n",
      "['latitude']\n",
      "\n",
      "INSERT INTO \"Channel\" (\"name\") VALUES (?)\n",
      "['transmission_gear']\n",
      "\n",
      "INSERT INTO \"Channel\" (\"name\") VALUES (?)\n",
      "['vehicle_speed']\n",
      "\n",
      "INSERT INTO \"Channel\" (\"name\") VALUES (?)\n",
      "['Y']\n",
      "\n",
      "INSERT INTO \"Channel\" (\"name\") VALUES (?)\n",
      "['longitude']\n",
      "\n",
      "INSERT INTO \"Channel\" (\"name\") VALUES (?)\n",
      "['t']\n",
      "\n",
      "INSERT INTO \"Channel\" (\"name\") VALUES (?)\n",
      "['engine_speed_desired']\n",
      "\n",
      "INSERT INTO \"Channel\" (\"name\") VALUES (?)\n",
      "['engine_speed']\n",
      "\n",
      "INSERT INTO \"Channel\" (\"name\") VALUES (?)\n",
      "['coolant_temp']\n",
      "\n",
      "INSERT INTO \"Channel\" (\"name\") VALUES (?)\n",
      "['power']\n",
      "\n",
      "COMMIT\n"
     ]
    }
   ],
   "source": [
    "channels = list()\n",
    "mdf.channels_db.keys()\n",
    "for channel in mdf.channels_db.keys():\n",
    "    channels.append(Channel(name=channel))\n",
    "pony.orm.commit()"
   ]
  },
  {
   "cell_type": "code",
   "execution_count": 30,
   "metadata": {},
   "outputs": [
    {
     "data": {
      "text/plain": [
       "'/projects/python_MDF_Indexer/Data/HeavyDutyTruckCorp/Bulldozer/f82f236c-eaf2-42f9-80e8-c45787934244.mdf'"
      ]
     },
     "execution_count": 30,
     "metadata": {},
     "output_type": "execute_result"
    }
   ],
   "source": [
    "data_file"
   ]
  },
  {
   "cell_type": "code",
   "execution_count": 32,
   "metadata": {
    "scrolled": true
   },
   "outputs": [
    {
     "ename": "TypeError",
     "evalue": "Unknown attribute 'verison'",
     "output_type": "error",
     "traceback": [
      "\u001b[0;31m---------------------------------------------------------------------------\u001b[0m",
      "\u001b[0;31mTypeError\u001b[0m                                 Traceback (most recent call last)",
      "\u001b[0;32m<ipython-input-32-25dd315b66bd>\u001b[0m in \u001b[0;36m<module>\u001b[0;34m()\u001b[0m\n\u001b[1;32m      4\u001b[0m     \u001b[0msha256\u001b[0m\u001b[0;34m=\u001b[0m\u001b[0msha256\u001b[0m\u001b[0;34m,\u001b[0m\u001b[0;34m\u001b[0m\u001b[0m\n\u001b[1;32m      5\u001b[0m     \u001b[0mmd5\u001b[0m\u001b[0;34m=\u001b[0m\u001b[0mmd5\u001b[0m\u001b[0;34m,\u001b[0m\u001b[0;34m\u001b[0m\u001b[0m\n\u001b[0;32m----> 6\u001b[0;31m     \u001b[0mchannels\u001b[0m \u001b[0;34m=\u001b[0m \u001b[0mchannels\u001b[0m\u001b[0;34m,\u001b[0m\u001b[0;34m\u001b[0m\u001b[0m\n\u001b[0m\u001b[1;32m      7\u001b[0m )\n\u001b[1;32m      8\u001b[0m \u001b[0mpony\u001b[0m\u001b[0;34m.\u001b[0m\u001b[0morm\u001b[0m\u001b[0;34m.\u001b[0m\u001b[0mcommit\u001b[0m\u001b[0;34m(\u001b[0m\u001b[0;34m)\u001b[0m\u001b[0;34m\u001b[0m\u001b[0m\n",
      "\u001b[0;32m/projects/python_MDF_Indexer/.venv/lib/python3.5/site-packages/pony/orm/core.py\u001b[0m in \u001b[0;36m__init__\u001b[0;34m(obj, *args, **kwargs)\u001b[0m\n",
      "\u001b[0;32m/projects/python_MDF_Indexer/.venv/lib/python3.5/site-packages/pony/utils/utils.py\u001b[0m in \u001b[0;36mcut_traceback\u001b[0;34m(func, *args, **kwargs)\u001b[0m\n\u001b[1;32m     74\u001b[0m             \u001b[0mmodule_name\u001b[0m \u001b[0;34m=\u001b[0m \u001b[0mtb\u001b[0m\u001b[0;34m.\u001b[0m\u001b[0mtb_frame\u001b[0m\u001b[0;34m.\u001b[0m\u001b[0mf_globals\u001b[0m\u001b[0;34m.\u001b[0m\u001b[0mget\u001b[0m\u001b[0;34m(\u001b[0m\u001b[0;34m'__name__'\u001b[0m\u001b[0;34m)\u001b[0m \u001b[0;32mor\u001b[0m \u001b[0;34m''\u001b[0m\u001b[0;34m\u001b[0m\u001b[0m\n\u001b[1;32m     75\u001b[0m             \u001b[0;32mif\u001b[0m \u001b[0mmodule_name\u001b[0m\u001b[0;34m.\u001b[0m\u001b[0mstartswith\u001b[0m\u001b[0;34m(\u001b[0m\u001b[0;34m'pony.utils'\u001b[0m\u001b[0;34m)\u001b[0m \u001b[0;32mand\u001b[0m \u001b[0mtb\u001b[0m\u001b[0;34m.\u001b[0m\u001b[0mtb_frame\u001b[0m\u001b[0;34m.\u001b[0m\u001b[0mf_code\u001b[0m\u001b[0;34m.\u001b[0m\u001b[0mco_name\u001b[0m \u001b[0;34m==\u001b[0m \u001b[0;34m'throw'\u001b[0m\u001b[0;34m:\u001b[0m\u001b[0;34m\u001b[0m\u001b[0m\n\u001b[0;32m---> 76\u001b[0;31m                 \u001b[0mreraise\u001b[0m\u001b[0;34m(\u001b[0m\u001b[0mexc_type\u001b[0m\u001b[0;34m,\u001b[0m \u001b[0mexc\u001b[0m\u001b[0;34m,\u001b[0m \u001b[0mlast_pony_tb\u001b[0m\u001b[0;34m)\u001b[0m\u001b[0;34m\u001b[0m\u001b[0m\n\u001b[0m\u001b[1;32m     77\u001b[0m             \u001b[0mreraise\u001b[0m\u001b[0;34m(\u001b[0m\u001b[0mexc_type\u001b[0m\u001b[0;34m,\u001b[0m \u001b[0mexc\u001b[0m\u001b[0;34m,\u001b[0m \u001b[0mfull_tb\u001b[0m\u001b[0;34m)\u001b[0m\u001b[0;34m\u001b[0m\u001b[0m\n\u001b[1;32m     78\u001b[0m         \u001b[0;32mfinally\u001b[0m\u001b[0;34m:\u001b[0m\u001b[0;34m\u001b[0m\u001b[0m\n",
      "\u001b[0;32m/projects/python_MDF_Indexer/.venv/lib/python3.5/site-packages/pony/utils/utils.py\u001b[0m in \u001b[0;36mreraise\u001b[0;34m(***failed resolving arguments***)\u001b[0m\n\u001b[1;32m     85\u001b[0m \u001b[0;32melse\u001b[0m\u001b[0;34m:\u001b[0m\u001b[0;34m\u001b[0m\u001b[0m\n\u001b[1;32m     86\u001b[0m     \u001b[0;32mdef\u001b[0m \u001b[0mreraise\u001b[0m\u001b[0;34m(\u001b[0m\u001b[0mexc_type\u001b[0m\u001b[0;34m,\u001b[0m \u001b[0mexc\u001b[0m\u001b[0;34m,\u001b[0m \u001b[0mtb\u001b[0m\u001b[0;34m)\u001b[0m\u001b[0;34m:\u001b[0m\u001b[0;34m\u001b[0m\u001b[0m\n\u001b[0;32m---> 87\u001b[0;31m         \u001b[0;32mtry\u001b[0m\u001b[0;34m:\u001b[0m \u001b[0;32mraise\u001b[0m \u001b[0mexc\u001b[0m\u001b[0;34m.\u001b[0m\u001b[0mwith_traceback\u001b[0m\u001b[0;34m(\u001b[0m\u001b[0mtb\u001b[0m\u001b[0;34m)\u001b[0m\u001b[0;34m\u001b[0m\u001b[0m\n\u001b[0m\u001b[1;32m     88\u001b[0m         \u001b[0;32mfinally\u001b[0m\u001b[0;34m:\u001b[0m \u001b[0;32mdel\u001b[0m \u001b[0mexc\u001b[0m\u001b[0;34m,\u001b[0m \u001b[0mtb\u001b[0m\u001b[0;34m\u001b[0m\u001b[0m\n\u001b[1;32m     89\u001b[0m \u001b[0;34m\u001b[0m\u001b[0m\n",
      "\u001b[0;32m/projects/python_MDF_Indexer/.venv/lib/python3.5/site-packages/pony/orm/core.py\u001b[0m in \u001b[0;36m__init__\u001b[0;34m(obj, *args, **kwargs)\u001b[0m\n\u001b[1;32m   4315\u001b[0m         \u001b[0mavdict\u001b[0m \u001b[0;34m=\u001b[0m \u001b[0;34m{\u001b[0m\u001b[0;34m}\u001b[0m\u001b[0;34m\u001b[0m\u001b[0m\n\u001b[1;32m   4316\u001b[0m         \u001b[0;32mfor\u001b[0m \u001b[0mname\u001b[0m \u001b[0;32min\u001b[0m \u001b[0mkwargs\u001b[0m\u001b[0;34m:\u001b[0m\u001b[0;34m\u001b[0m\u001b[0m\n\u001b[0;32m-> 4317\u001b[0;31m             \u001b[0;32mif\u001b[0m \u001b[0mname\u001b[0m \u001b[0;32mnot\u001b[0m \u001b[0;32min\u001b[0m \u001b[0mentity\u001b[0m\u001b[0;34m.\u001b[0m\u001b[0m_adict_\u001b[0m\u001b[0;34m:\u001b[0m \u001b[0mthrow\u001b[0m\u001b[0;34m(\u001b[0m\u001b[0mTypeError\u001b[0m\u001b[0;34m,\u001b[0m \u001b[0;34m'Unknown attribute %r'\u001b[0m \u001b[0;34m%\u001b[0m \u001b[0mname\u001b[0m\u001b[0;34m)\u001b[0m\u001b[0;34m\u001b[0m\u001b[0m\n\u001b[0m\u001b[1;32m   4318\u001b[0m         \u001b[0;32mfor\u001b[0m \u001b[0mattr\u001b[0m \u001b[0;32min\u001b[0m \u001b[0mentity\u001b[0m\u001b[0;34m.\u001b[0m\u001b[0m_attrs_\u001b[0m\u001b[0;34m:\u001b[0m\u001b[0;34m\u001b[0m\u001b[0m\n\u001b[1;32m   4319\u001b[0m             \u001b[0mval\u001b[0m \u001b[0;34m=\u001b[0m \u001b[0mkwargs\u001b[0m\u001b[0;34m.\u001b[0m\u001b[0mget\u001b[0m\u001b[0;34m(\u001b[0m\u001b[0mattr\u001b[0m\u001b[0;34m.\u001b[0m\u001b[0mname\u001b[0m\u001b[0;34m,\u001b[0m \u001b[0mDEFAULT\u001b[0m\u001b[0;34m)\u001b[0m\u001b[0;34m\u001b[0m\u001b[0m\n",
      "\u001b[0;32m/projects/python_MDF_Indexer/.venv/lib/python3.5/site-packages/pony/utils/utils.py\u001b[0m in \u001b[0;36mthrow\u001b[0;34m(exc_type, *args, **kwargs)\u001b[0m\n\u001b[1;32m     98\u001b[0m             \u001b[0;32mraise\u001b[0m \u001b[0mexc\u001b[0m\u001b[0;34m\u001b[0m\u001b[0m\n\u001b[1;32m     99\u001b[0m         \u001b[0;32melse\u001b[0m\u001b[0;34m:\u001b[0m\u001b[0;34m\u001b[0m\u001b[0m\n\u001b[0;32m--> 100\u001b[0;31m             \u001b[0;32mraise\u001b[0m \u001b[0mexc\u001b[0m  \u001b[0;31m# Set \"pony.options.CUT_TRACEBACK = False\" to see full traceback\u001b[0m\u001b[0;34m\u001b[0m\u001b[0m\n\u001b[0m\u001b[1;32m    101\u001b[0m     \u001b[0;32mfinally\u001b[0m\u001b[0;34m:\u001b[0m \u001b[0;32mdel\u001b[0m \u001b[0mexc\u001b[0m\u001b[0;34m\u001b[0m\u001b[0m\n\u001b[1;32m    102\u001b[0m \u001b[0;34m\u001b[0m\u001b[0m\n",
      "\u001b[0;31mTypeError\u001b[0m: Unknown attribute 'verison'"
     ]
    }
   ],
   "source": [
    "mdf_ = MDF(\n",
    "    name=data_file,\n",
    "    verison=mdf.version,\n",
    "    sha256=sha256,\n",
    "    md5=md5,\n",
    "    channels = channels,\n",
    ")\n",
    "pony.orm.commit()"
   ]
  },
  {
   "cell_type": "code",
   "execution_count": null,
   "metadata": {},
   "outputs": [],
   "source": [
    "db."
   ]
  }
 ],
 "metadata": {
  "kernelspec": {
   "display_name": "Python 3",
   "language": "python",
   "name": "python3"
  },
  "language_info": {
   "codemirror_mode": {
    "name": "ipython",
    "version": 3
   },
   "file_extension": ".py",
   "mimetype": "text/x-python",
   "name": "python",
   "nbconvert_exporter": "python",
   "pygments_lexer": "ipython3",
   "version": "3.5.2"
  }
 },
 "nbformat": 4,
 "nbformat_minor": 2
}
