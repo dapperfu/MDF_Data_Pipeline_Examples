{
 "cells": [
  {
   "cell_type": "markdown",
   "metadata": {},
   "source": [
    "# InfluxDB MDF Bridge.\n",
    "\n",
    "- https://twitter.com/InfluxDB\n",
    "- https://github.com/influxdata\n",
    "- https://en.wikipedia.org/wiki/InfluxDB\n",
    "\n",
    "> InfluxDB is an **open-source time series database** (TSDB) developed by InfluxData. It is written in Go and **optimized for fast, high-availability storage and retrieval of time series data**  in fields such as operations monitoring, application metrics, Internet of Things sensor data, and real-time analytics. It also has support for processing data from Graphite. [emphasis added]\n",
    "\n",
    "Installed the \"TICK\" stack for Ubuntu 18.04.02 LTS:\n",
    "```\n",
    "#!/usr/bin/env bash\n",
    "\n",
    "wget https://dl.influxdata.com/influxdb/releases/influxdb_1.7.4_amd64.deb\n",
    "sudo dpkg -i influxdb_1.7.4_amd64.deb\n",
    "\n",
    "wget https://dl.influxdata.com/chronograf/releases/chronograf_1.7.8_amd64.deb\n",
    "sudo dpkg -i chronograf_1.7.8_amd64.deb\n",
    "\n",
    "wget https://dl.influxdata.com/kapacitor/releases/kapacitor_1.5.2_amd64.deb\n",
    "sudo dpkg -i kapacitor_1.5.2_amd64.deb\n",
    "```"
   ]
  },
  {
   "cell_type": "code",
   "execution_count": 8,
   "metadata": {},
   "outputs": [],
   "source": [
    "import influxdb\n",
    "import asammdf"
   ]
  },
  {
   "cell_type": "code",
   "execution_count": 9,
   "metadata": {},
   "outputs": [],
   "source": [
    "import get_files"
   ]
  },
  {
   "cell_type": "code",
   "execution_count": 21,
   "metadata": {},
   "outputs": [
    {
     "name": "stdout",
     "output_type": "stream",
     "text": [
      "191M\t../Data/AerospaceStartup\n",
      "1.3G\t../Data/CarCompanyLLC\n",
      "1.2G\t../Data/DasAutoGMBH\n",
      "1.4G\t../Data/HeavyDutyTruckCorp\n",
      "1.3G\t../Data/HeavyEquipmentInc\n",
      "1.1G\t../Data/Sil.icon.Vall.eyStartup\n",
      "1.2G\t../Data/SlowlyDyingGuerilla\n",
      "1.2G\t../Data/Tier1\n",
      "1.2G\t../Data/Tier2\n",
      "1.1G\t../Data/Tier3\n"
     ]
    }
   ],
   "source": [
    "!du -ksh ../Data/*"
   ]
  },
  {
   "cell_type": "code",
   "execution_count": 22,
   "metadata": {},
   "outputs": [
    {
     "name": "stdout",
     "output_type": "stream",
     "text": [
      "11G\t../Data\r\n"
     ]
    }
   ],
   "source": [
    "!du -ksh ../Data"
   ]
  },
  {
   "cell_type": "code",
   "execution_count": 23,
   "metadata": {},
   "outputs": [],
   "source": [
    "data_files = get_files.get_files('../Data/')"
   ]
  },
  {
   "cell_type": "code",
   "execution_count": 25,
   "metadata": {},
   "outputs": [],
   "source": [
    "for data_file in data_files:\n",
    "    break"
   ]
  },
  {
   "cell_type": "code",
   "execution_count": 44,
   "metadata": {},
   "outputs": [
    {
     "name": "stdout",
     "output_type": "stream",
     "text": [
      "Object `data_file_.size()` not found.\n"
     ]
    }
   ],
   "source": [
    "?data_file_.size()"
   ]
  },
  {
   "cell_type": "code",
   "execution_count": 27,
   "metadata": {},
   "outputs": [],
   "source": [
    "import py"
   ]
  },
  {
   "cell_type": "code",
   "execution_count": 28,
   "metadata": {},
   "outputs": [],
   "source": [
    "data_file_ = py.path.local(\n",
    "        path=data_file,\n",
    "    )\n",
    "    \n",
    "mdf = asammdf.MDF(data_file)"
   ]
  },
  {
   "cell_type": "code",
   "execution_count": 29,
   "metadata": {},
   "outputs": [
    {
     "data": {
      "text/plain": [
       "'b81db5fa92177083cb4a26979424c9ba8386c22b6a7eede94b7ce39b031437f5'"
      ]
     },
     "execution_count": 29,
     "metadata": {},
     "output_type": "execute_result"
    }
   ],
   "source": [
    "data_file_.computehash(\n",
    "        hashtype=\"sha256\",\n",
    "    )"
   ]
  },
  {
   "cell_type": "markdown",
   "metadata": {},
   "source": [
    "# InfluxDB Python Examples\n",
    "\n",
    "https://influxdb-python.readthedocs.io/en/latest/examples.html"
   ]
  },
  {
   "cell_type": "code",
   "execution_count": null,
   "metadata": {},
   "outputs": [],
   "source": [
    "def main(host='localhost', port=8086):\n",
    "    \"\"\"Instantiate a connection to the InfluxDB.\"\"\"\n",
    "    user = ''\n",
    "    password = ''\n",
    "    dbname = 'example'\n",
    "    dbuser = ''\n",
    "    dbuser_password = ''\n",
    "    query = 'select value from cpu_load_short;'\n",
    "    json_body = [\n",
    "        {\n",
    "            \"measurement\": \"cpu_load_short\",\n",
    "            \"tags\": {\n",
    "                \"host\": \"server01\",\n",
    "                \"region\": \"us-west\"\n",
    "            },\n",
    "            \"time\": \"2009-11-10T23:00:00Z\",\n",
    "            \"fields\": {\n",
    "                \"Float_value\": 0.64,\n",
    "                \"Int_value\": 3,\n",
    "                \"String_value\": \"Text\",\n",
    "                \"Bool_value\": True\n",
    "            }\n",
    "        }\n",
    "    ]\n",
    "\n",
    "    client = InfluxDBClient(host, port, user, password, dbname)\n",
    "\n",
    "    print(\"Create database: \" + dbname)\n",
    "    client.create_database(dbname)\n",
    "\n",
    "    print(\"Create a retention policy\")\n",
    "    client.create_retention_policy('awesome_policy', '3d', 3, default=True)\n",
    "\n",
    "    print(\"Switch user: \" + dbuser)\n",
    "    client.switch_user(dbuser, dbuser_password)\n",
    "\n",
    "    print(\"Write points: {0}\".format(json_body))\n",
    "    client.write_points(json_body)\n",
    "\n",
    "    print(\"Querying data: \" + query)\n",
    "    result = client.query(query)\n",
    "\n",
    "    print(\"Result: {0}\".format(result))\n",
    "\n",
    "    print(\"Switch user: \" + user)\n",
    "    client.switch_user(user, password)\n",
    "\n",
    "    print(\"Drop database: \" + dbname)\n",
    "    client.drop_database(dbname)"
   ]
  },
  {
   "cell_type": "markdown",
   "metadata": {},
   "source": [
    "https://www.influxdata.com/blog/getting-started-python-influxdb/"
   ]
  },
  {
   "cell_type": "code",
   "execution_count": 30,
   "metadata": {},
   "outputs": [],
   "source": [
    "from influxdb import InfluxDBClient"
   ]
  },
  {
   "cell_type": "code",
   "execution_count": 31,
   "metadata": {},
   "outputs": [],
   "source": [
    "client = InfluxDBClient(host='localhost', port=8086)"
   ]
  },
  {
   "cell_type": "code",
   "execution_count": 32,
   "metadata": {},
   "outputs": [
    {
     "data": {
      "text/plain": [
       "[{'name': '_internal'}]"
      ]
     },
     "execution_count": 32,
     "metadata": {},
     "output_type": "execute_result"
    }
   ],
   "source": [
    "client.get_list_database()"
   ]
  },
  {
   "cell_type": "code",
   "execution_count": 34,
   "metadata": {},
   "outputs": [],
   "source": [
    "client.create_database('pyexample')\n",
    "client.switch_database('pyexample')"
   ]
  },
  {
   "cell_type": "code",
   "execution_count": 36,
   "metadata": {},
   "outputs": [
    {
     "data": {
      "text/plain": [
       "dict_keys(['time', 'engine_speed', 'engine_speed_desired', 'vehicle_speed', 'transmission_gear', 'coolant_temp', 'longitude', 'latitude', 'power', 'efficiency', 'X', 'Y', 'VehicleDetected', 'HumanDetected', 'AutopilotEngaged'])"
      ]
     },
     "execution_count": 36,
     "metadata": {},
     "output_type": "execute_result"
    }
   ],
   "source": [
    "mdf.channels_db.keys()"
   ]
  },
  {
   "cell_type": "code",
   "execution_count": 41,
   "metadata": {},
   "outputs": [
    {
     "data": {
      "text/plain": [
       "[(0, 12)]"
      ]
     },
     "execution_count": 41,
     "metadata": {},
     "output_type": "execute_result"
    }
   ],
   "source": [
    "mdf.channels_db[\"VehicleDetected\"]"
   ]
  },
  {
   "cell_type": "code",
   "execution_count": null,
   "metadata": {},
   "outputs": [],
   "source": []
  }
 ],
 "metadata": {
  "kernelspec": {
   "display_name": "Python 3",
   "language": "python",
   "name": "python3"
  },
  "language_info": {
   "codemirror_mode": {
    "name": "ipython",
    "version": 3
   },
   "file_extension": ".py",
   "mimetype": "text/x-python",
   "name": "python",
   "nbconvert_exporter": "python",
   "pygments_lexer": "ipython3",
   "version": "3.6.7"
  }
 },
 "nbformat": 4,
 "nbformat_minor": 2
}
