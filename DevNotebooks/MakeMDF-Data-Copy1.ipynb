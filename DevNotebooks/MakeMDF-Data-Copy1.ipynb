{
 "cells": [
  {
   "cell_type": "code",
   "execution_count": 5,
   "metadata": {},
   "outputs": [],
   "source": [
    "from asammdf import MDF, Signal\n",
    "import asammdf\n",
    "import numpy as np\n",
    "import scipy.signal\n",
    "import random\n",
    "import control\n",
    "import control.matlab as matlab"
   ]
  },
  {
   "cell_type": "markdown",
   "metadata": {},
   "source": [
    "$$ y(t) = A\\sin(2 \\pi f t + \\varphi) = A\\sin(\\omega t + \\varphi) $$"
   ]
  },
  {
   "cell_type": "code",
   "execution_count": 6,
   "metadata": {},
   "outputs": [],
   "source": [
    "companies = [\n",
    "    \"HeavyEquipmentInc\",\n",
    "    \"CarCompanyLLC\",\n",
    "    \"HeavyDutyTruckCorp\",\n",
    "    \"AerospaceStartup\",\n",
    "]\n",
    "\n",
    "products = [\n",
    "    \"Bulldozer\",\n",
    "    \"DumpTruck\",\n",
    "    \"Excavator\",\n",
    "    \"Transmission\",\n",
    "    \"Airplane\",\n",
    "]\n",
    "\n",
    "channels = [\n",
    "    \"engine_speed\",\n",
    "    \"engine_speed_desired\",\n",
    "    \"vehicle_speed\",\n",
    "    \"transmission_gear\",\n",
    "    \"coolant_temp\",\n",
    "    \"longitude\",\n",
    "    \"latitude\",\n",
    "    \"power\",\n",
    "    \"efficiency\",\n",
    "    \"X\",\n",
    "    \"Y\",\n",
    "]"
   ]
  },
  {
   "cell_type": "code",
   "execution_count": 7,
   "metadata": {},
   "outputs": [
    {
     "data": {
      "text/plain": [
       "0.5"
      ]
     },
     "execution_count": 7,
     "metadata": {},
     "output_type": "execute_result"
    }
   ],
   "source": [
    "5e-1"
   ]
  },
  {
   "cell_type": "code",
   "execution_count": 8,
   "metadata": {},
   "outputs": [],
   "source": [
    "tf=10\n",
    "t1=np.arange(0, tf, 1, dtype=np.float32)\n",
    "t2=np.arange(0, tf, 2, dtype=np.float32)\n",
    "t5En1=np.arange(0, tf, 5e-1, dtype=np.float32)"
   ]
  },
  {
   "cell_type": "code",
   "execution_count": 24,
   "metadata": {},
   "outputs": [
    {
     "ename": "MdfException",
     "evalue": "\"samples\", \"timestamps\" and \"name\" are mandatory for Signal class __init__: samples=None\ntimestamps=[0. 1. 2. 3. 4. 5. 6. 7. 8. 9.]\nname=engine_speed",
     "output_type": "error",
     "traceback": [
      "\u001b[0;31m---------------------------------------------------------------------------\u001b[0m",
      "\u001b[0;31mMdfException\u001b[0m                              Traceback (most recent call last)",
      "\u001b[0;32m<ipython-input-24-f25e97d08f9e>\u001b[0m in \u001b[0;36m<module>\u001b[0;34m()\u001b[0m\n\u001b[1;32m      9\u001b[0m     \u001b[0mtimestamps\u001b[0m\u001b[0;34m=\u001b[0m\u001b[0mt1\u001b[0m\u001b[0;34m,\u001b[0m\u001b[0;34m\u001b[0m\u001b[0m\n\u001b[1;32m     10\u001b[0m     \u001b[0mname\u001b[0m\u001b[0;34m=\u001b[0m\u001b[0;34m\"engine_speed\"\u001b[0m\u001b[0;34m,\u001b[0m\u001b[0;34m\u001b[0m\u001b[0m\n\u001b[0;32m---> 11\u001b[0;31m     \u001b[0munit\u001b[0m\u001b[0;34m=\u001b[0m\u001b[0;34m'f8'\u001b[0m\u001b[0;34m,\u001b[0m\u001b[0;34m\u001b[0m\u001b[0m\n\u001b[0m\u001b[1;32m     12\u001b[0m )\n",
      "\u001b[0;32m/projects/python_MDF_Indexer/asammdf/asammdf/signal.py\u001b[0m in \u001b[0;36m__init__\u001b[0;34m(self, samples, timestamps, unit, name, conversion, comment, raw)\u001b[0m\n\u001b[1;32m     84\u001b[0m                        \u001b[0;34m'for Signal class __init__: samples={}\\n'\u001b[0m\u001b[0;34m\u001b[0m\u001b[0m\n\u001b[1;32m     85\u001b[0m                        'timestamps={}\\nname={}')\n\u001b[0;32m---> 86\u001b[0;31m             \u001b[0;32mraise\u001b[0m \u001b[0mMdfException\u001b[0m\u001b[0;34m(\u001b[0m\u001b[0mmessage\u001b[0m\u001b[0;34m.\u001b[0m\u001b[0mformat\u001b[0m\u001b[0;34m(\u001b[0m\u001b[0msamples\u001b[0m\u001b[0;34m,\u001b[0m \u001b[0mtimestamps\u001b[0m\u001b[0;34m,\u001b[0m \u001b[0mname\u001b[0m\u001b[0;34m)\u001b[0m\u001b[0;34m)\u001b[0m\u001b[0;34m\u001b[0m\u001b[0m\n\u001b[0m\u001b[1;32m     87\u001b[0m         \u001b[0;32melse\u001b[0m\u001b[0;34m:\u001b[0m\u001b[0;34m\u001b[0m\u001b[0m\n\u001b[1;32m     88\u001b[0m             \u001b[0;32mif\u001b[0m \u001b[0misinstance\u001b[0m\u001b[0;34m(\u001b[0m\u001b[0msamples\u001b[0m\u001b[0;34m,\u001b[0m \u001b[0;34m(\u001b[0m\u001b[0mlist\u001b[0m\u001b[0;34m,\u001b[0m \u001b[0mtuple\u001b[0m\u001b[0;34m)\u001b[0m\u001b[0;34m)\u001b[0m\u001b[0;34m:\u001b[0m\u001b[0;34m\u001b[0m\u001b[0m\n",
      "\u001b[0;31mMdfException\u001b[0m: \"samples\", \"timestamps\" and \"name\" are mandatory for Signal class __init__: samples=None\ntimestamps=[0. 1. 2. 3. 4. 5. 6. 7. 8. 9.]\nname=engine_speed"
     ]
    }
   ],
   "source": [
    "A=1\n",
    "f=1\n",
    "\n",
    "sine_ = A*np.sin(\n",
    "    2 * np.pi * f * t1\n",
    ")\n",
    "\n",
    "\n",
    "engine_speed = Signal(\n",
    "    timestamps=t1,\n",
    "    name=\"engine_speed\",\n",
    "    unit='f8',\n",
    ")"
   ]
  },
  {
   "cell_type": "code",
   "execution_count": 33,
   "metadata": {},
   "outputs": [
    {
     "ename": "MdfException",
     "evalue": "\"samples\", \"timestamps\" and \"name\" are mandatory for Signal class __init__: samples=None\ntimestamps=[0. 1. 2. 3. 4. 5. 6. 7. 8. 9.]\nname=engine_speed",
     "output_type": "error",
     "traceback": [
      "\u001b[0;31m---------------------------------------------------------------------------\u001b[0m",
      "\u001b[0;31mMdfException\u001b[0m                              Traceback (most recent call last)",
      "\u001b[0;32m<ipython-input-33-22d18949c658>\u001b[0m in \u001b[0;36m<module>\u001b[0;34m()\u001b[0m\n\u001b[1;32m      2\u001b[0m     \u001b[0mtimestamps\u001b[0m\u001b[0;34m=\u001b[0m\u001b[0mt1\u001b[0m\u001b[0;34m,\u001b[0m\u001b[0;34m\u001b[0m\u001b[0m\n\u001b[1;32m      3\u001b[0m     \u001b[0mname\u001b[0m\u001b[0;34m=\u001b[0m\u001b[0;34m\"engine_speed\"\u001b[0m\u001b[0;34m,\u001b[0m\u001b[0;34m\u001b[0m\u001b[0m\n\u001b[0;32m----> 4\u001b[0;31m     \u001b[0munit\u001b[0m\u001b[0;34m=\u001b[0m\u001b[0;34m'f8'\u001b[0m\u001b[0;34m,\u001b[0m\u001b[0;34m\u001b[0m\u001b[0m\n\u001b[0m\u001b[1;32m      5\u001b[0m )\n",
      "\u001b[0;32m/projects/python_MDF_Indexer/asammdf/asammdf/signal.py\u001b[0m in \u001b[0;36m__init__\u001b[0;34m(self, samples, timestamps, unit, name, conversion, comment, raw)\u001b[0m\n\u001b[1;32m     84\u001b[0m                        \u001b[0;34m'for Signal class __init__: samples={}\\n'\u001b[0m\u001b[0;34m\u001b[0m\u001b[0m\n\u001b[1;32m     85\u001b[0m                        'timestamps={}\\nname={}')\n\u001b[0;32m---> 86\u001b[0;31m             \u001b[0;32mraise\u001b[0m \u001b[0mMdfException\u001b[0m\u001b[0;34m(\u001b[0m\u001b[0mmessage\u001b[0m\u001b[0;34m.\u001b[0m\u001b[0mformat\u001b[0m\u001b[0;34m(\u001b[0m\u001b[0msamples\u001b[0m\u001b[0;34m,\u001b[0m \u001b[0mtimestamps\u001b[0m\u001b[0;34m,\u001b[0m \u001b[0mname\u001b[0m\u001b[0;34m)\u001b[0m\u001b[0;34m)\u001b[0m\u001b[0;34m\u001b[0m\u001b[0m\n\u001b[0m\u001b[1;32m     87\u001b[0m         \u001b[0;32melse\u001b[0m\u001b[0;34m:\u001b[0m\u001b[0;34m\u001b[0m\u001b[0m\n\u001b[1;32m     88\u001b[0m             \u001b[0;32mif\u001b[0m \u001b[0misinstance\u001b[0m\u001b[0;34m(\u001b[0m\u001b[0msamples\u001b[0m\u001b[0;34m,\u001b[0m \u001b[0;34m(\u001b[0m\u001b[0mlist\u001b[0m\u001b[0;34m,\u001b[0m \u001b[0mtuple\u001b[0m\u001b[0;34m)\u001b[0m\u001b[0;34m)\u001b[0m\u001b[0;34m:\u001b[0m\u001b[0;34m\u001b[0m\u001b[0m\n",
      "\u001b[0;31mMdfException\u001b[0m: \"samples\", \"timestamps\" and \"name\" are mandatory for Signal class __init__: samples=None\ntimestamps=[0. 1. 2. 3. 4. 5. 6. 7. 8. 9.]\nname=engine_speed"
     ]
    }
   ],
   "source": [
    "engine_speed = Signal(\n",
    "    timestamps=t1,\n",
    "    name=\"engine_speed\",\n",
    "    unit='f8',\n",
    ")"
   ]
  },
  {
   "cell_type": "code",
   "execution_count": 27,
   "metadata": {},
   "outputs": [
    {
     "data": {
      "text/plain": [
       "'tmp.mf4'"
      ]
     },
     "execution_count": 27,
     "metadata": {},
     "output_type": "execute_result"
    }
   ],
   "source": [
    "signals = [\n",
    "    engine_speed,\n",
    "]\n",
    "\n",
    "mdf4 = MDF(\n",
    "    version='4.10',\n",
    ")\n",
    "mdf4.append(\n",
    "    signals=signals,\n",
    "    source_info='Created by '+asammdf.__version__,\n",
    "    common_timebase=False,\n",
    ")\n",
    "\n",
    "mdf4.save(\n",
    "    dst=\"tmp\",\n",
    "    overwrite=True,\n",
    "    compression=2,\n",
    ")"
   ]
  },
  {
   "cell_type": "code",
   "execution_count": 28,
   "metadata": {},
   "outputs": [],
   "source": [
    "del mdf4"
   ]
  },
  {
   "cell_type": "code",
   "execution_count": 29,
   "metadata": {},
   "outputs": [],
   "source": [
    "mdf4 = MDF(\"tmp.mf4\")"
   ]
  },
  {
   "cell_type": "code",
   "execution_count": 30,
   "metadata": {},
   "outputs": [
    {
     "data": {
      "text/plain": [
       "{'engine_speed': [(0, 1)], 't': [(0, 0)]}"
      ]
     },
     "execution_count": 30,
     "metadata": {},
     "output_type": "execute_result"
    }
   ],
   "source": [
    "mdf4.channels_db"
   ]
  },
  {
   "cell_type": "code",
   "execution_count": 31,
   "metadata": {},
   "outputs": [],
   "source": [
    "engine_speed = mdf4.get(\"engine_speed\")"
   ]
  },
  {
   "cell_type": "code",
   "execution_count": 32,
   "metadata": {},
   "outputs": [
    {
     "data": {
      "image/png": "[encoded data removed]",
      "text/plain": [
       "<matplotlib.figure.Figure at 0x7f6420a98710>"
      ]
     },
     "metadata": {},
     "output_type": "display_data"
    }
   ],
   "source": [
    "engine_speed.plot()"
   ]
  },
  {
   "cell_type": "code",
   "execution_count": null,
   "metadata": {},
   "outputs": [],
   "source": []
  }
 ],
 "metadata": {
  "kernelspec": {
   "display_name": "Python 3",
   "language": "python",
   "name": "python3"
  },
  "language_info": {
   "codemirror_mode": {
    "name": "ipython",
    "version": 3
   },
   "file_extension": ".py",
   "mimetype": "text/x-python",
   "name": "python",
   "nbconvert_exporter": "python",
   "pygments_lexer": "ipython3",
   "version": "3.5.2"
  }
 },
 "nbformat": 4,
 "nbformat_minor": 2
}
