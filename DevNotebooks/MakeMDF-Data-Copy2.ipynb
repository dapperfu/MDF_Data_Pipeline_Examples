{
 "cells": [
  {
   "cell_type": "code",
   "execution_count": 12,
   "metadata": {},
   "outputs": [],
   "source": [
    "from asammdf import MDF, Signal\n",
    "import asammdf\n",
    "import numpy as np\n",
    "import scipy.signal\n",
    "import random\n",
    "import control\n",
    "import control.matlab as matlab\n",
    "import matplotlib.pyplot as plt"
   ]
  },
  {
   "cell_type": "markdown",
   "metadata": {},
   "source": [
    "$$ y(t) = A\\sin(2 \\pi f t + \\varphi) = A\\sin(\\omega t + \\varphi) $$"
   ]
  },
  {
   "cell_type": "code",
   "execution_count": 38,
   "metadata": {},
   "outputs": [],
   "source": [
    "companies = [\n",
    "    \"HeavyEquipmentInc\",\n",
    "    \"CarCompanyLLC\",\n",
    "    \"HeavyDutyTruckCorp\",\n",
    "    \"AerospaceStartup\",\n",
    "]\n",
    "\n",
    "products = [\n",
    "    \"Bulldozer\",\n",
    "    \"DumpTruck\",\n",
    "    \"Excavator\",\n",
    "    \"Transmission\",\n",
    "    \"Airplane\",\n",
    "]\n",
    "\n",
    "channels = {\n",
    "    \"engine_speed\": \"rpm\",\n",
    "    \"engine_speed_desired\": \"rpm\",\n",
    "    \"vehicle_speed\": \"kph\",\n",
    "    \"transmission_gear\": \"uint8\",\n",
    "    \"coolant_temp\": \"C\",\n",
    "    \"longitude\": \"\",\n",
    "    \"latitude\": \"\",\n",
    "    \"power\": \"W\",\n",
    "    \"efficiency\": \"[unitless]\",\n",
    "    \"X\": \"\",\n",
    "    \"Y\": \"\" ,\n",
    "}"
   ]
  },
  {
   "cell_type": "code",
   "execution_count": 39,
   "metadata": {},
   "outputs": [],
   "source": [
    "tf=10\n",
    "t1=np.arange(0, tf, 1, dtype=np.float32)\n",
    "t2=np.arange(0, tf, 2, dtype=np.float32)\n",
    "t5En1=np.arange(0, tf, 5e-1, dtype=np.float32)\n",
    "t1En3=np.arange(0, tf, 1e-3, dtype=np.float32)"
   ]
  },
  {
   "cell_type": "code",
   "execution_count": 41,
   "metadata": {},
   "outputs": [],
   "source": [
    "def sine(t, A=1, f=1):\n",
    "    sine_ = A*np.sin(\n",
    "        2 * np.pi * f * t\n",
    "    )\n",
    "    return sine_\n",
    "    \n",
    "def cos(t, A=1, f=1):\n",
    "    cos_ = A*np.sin(\n",
    "        2 * np.pi * f * t\n",
    "    )\n",
    "    return cos_\n",
    "\n",
    "def square(t, A=1, f=1):\n",
    "    square_ = A*scipy.signal.square(\n",
    "        2 * np.pi * f * t\n",
    "    )\n",
    "    return square_\n",
    "\n",
    "def sawtooth(t, A=1, f=1):\n",
    "    sawtooth_ = A*scipy.signal.sawtooth(\n",
    "        2 * np.pi * f * t,\n",
    "        width=1,\n",
    "    )\n",
    "    return sawtooth_\n",
    "\n",
    "def triangle(t, A=1, f=1):\n",
    "    triangle_ = A*scipy.signal.sawtooth(\n",
    "        2 * np.pi * f * t,\n",
    "        width=0.5,\n",
    "    )\n",
    "    return triangle_"
   ]
  },
  {
   "cell_type": "code",
   "execution_count": 48,
   "metadata": {},
   "outputs": [],
   "source": [
    "signal_generators = [sine, cos, square, sawtooth, triangle]\n",
    "signal_generator = random.choice(signal_generators)"
   ]
  },
  {
   "cell_type": "code",
   "execution_count": 50,
   "metadata": {},
   "outputs": [],
   "source": [
    "t = [t1, t2, t5En1, t1En3]\n",
    "\n",
    "T = random.choice(t)\n",
    "\n",
    "for channel in channels:\n",
    "    pass\n",
    "    break"
   ]
  },
  {
   "cell_type": "code",
   "execution_count": null,
   "metadata": {},
   "outputs": [],
   "source": [
    "A = random.randint(1, 10)\n",
    "f = random.randint(1, 100)"
   ]
  },
  {
   "cell_type": "code",
   "execution_count": 65,
   "metadata": {},
   "outputs": [],
   "source": [
    "for channel_name, channel_units in channels.items():\n",
    "    if isinstance(channel_units, str):\n",
    "        channel_unit = channel_units\n",
    "    else:\n",
    "        raise type(channel_units)\n",
    "        \n",
    "    Y = signal_generator(T, A, f)\n",
    "    signal_ = Signal(\n",
    "        samples=Y,\n",
    "        timestamps=T,\n",
    "        name=channel_name,\n",
    "        unit=channel_unit,\n",
    "    )"
   ]
  },
  {
   "cell_type": "code",
   "execution_count": 69,
   "metadata": {
    "scrolled": true
   },
   "outputs": [],
   "source": [
    "signals = list()\n",
    "\n",
    "for channel_name, channel_units in channels.items():\n",
    "    if isinstance(channel_units, str):\n",
    "        channel_unit = channel_units\n",
    "    else:\n",
    "        raise type(channel_units)\n",
    "        \n",
    "    Y = signal_generator(T, A, f)\n",
    "    signal_ = Signal(\n",
    "        samples=Y,\n",
    "        timestamps=T,\n",
    "        name=channel_name,\n",
    "        unit=channel_unit,\n",
    "    )\n",
    "    signals.append(signal_)"
   ]
  },
  {
   "cell_type": "code",
   "execution_count": 70,
   "metadata": {},
   "outputs": [
    {
     "data": {
      "text/plain": [
       "[Signal(name=transmission_gear, samples=array([ 6.,  6., -6.,  6., -6.,  6., -6.,  6., -6.,  6., -6.,  6., -6.,\n",
       "         6., -6.,  6., -6.,  6., -6.,  6.]), timestamps=array([0. , 0.5, 1. , 1.5, 2. , 2.5, 3. , 3.5, 4. , 4.5, 5. , 5.5, 6. ,\n",
       "        6.5, 7. , 7.5, 8. , 8.5, 9. , 9.5], dtype=float32), unit=uint8, conversion=None, comment=, raw=False),\n",
       " Signal(name=longitude, samples=array([ 6.,  6., -6.,  6., -6.,  6., -6.,  6., -6.,  6., -6.,  6., -6.,\n",
       "         6., -6.,  6., -6.,  6., -6.,  6.]), timestamps=array([0. , 0.5, 1. , 1.5, 2. , 2.5, 3. , 3.5, 4. , 4.5, 5. , 5.5, 6. ,\n",
       "        6.5, 7. , 7.5, 8. , 8.5, 9. , 9.5], dtype=float32), unit=, conversion=None, comment=, raw=False),\n",
       " Signal(name=power, samples=array([ 6.,  6., -6.,  6., -6.,  6., -6.,  6., -6.,  6., -6.,  6., -6.,\n",
       "         6., -6.,  6., -6.,  6., -6.,  6.]), timestamps=array([0. , 0.5, 1. , 1.5, 2. , 2.5, 3. , 3.5, 4. , 4.5, 5. , 5.5, 6. ,\n",
       "        6.5, 7. , 7.5, 8. , 8.5, 9. , 9.5], dtype=float32), unit=W, conversion=None, comment=, raw=False),\n",
       " Signal(name=latitude, samples=array([ 6.,  6., -6.,  6., -6.,  6., -6.,  6., -6.,  6., -6.,  6., -6.,\n",
       "         6., -6.,  6., -6.,  6., -6.,  6.]), timestamps=array([0. , 0.5, 1. , 1.5, 2. , 2.5, 3. , 3.5, 4. , 4.5, 5. , 5.5, 6. ,\n",
       "        6.5, 7. , 7.5, 8. , 8.5, 9. , 9.5], dtype=float32), unit=, conversion=None, comment=, raw=False),\n",
       " Signal(name=X, samples=array([ 6.,  6., -6.,  6., -6.,  6., -6.,  6., -6.,  6., -6.,  6., -6.,\n",
       "         6., -6.,  6., -6.,  6., -6.,  6.]), timestamps=array([0. , 0.5, 1. , 1.5, 2. , 2.5, 3. , 3.5, 4. , 4.5, 5. , 5.5, 6. ,\n",
       "        6.5, 7. , 7.5, 8. , 8.5, 9. , 9.5], dtype=float32), unit=, conversion=None, comment=, raw=False),\n",
       " Signal(name=efficiency, samples=array([ 6.,  6., -6.,  6., -6.,  6., -6.,  6., -6.,  6., -6.,  6., -6.,\n",
       "         6., -6.,  6., -6.,  6., -6.,  6.]), timestamps=array([0. , 0.5, 1. , 1.5, 2. , 2.5, 3. , 3.5, 4. , 4.5, 5. , 5.5, 6. ,\n",
       "        6.5, 7. , 7.5, 8. , 8.5, 9. , 9.5], dtype=float32), unit=[unitless], conversion=None, comment=, raw=False),\n",
       " Signal(name=Y, samples=array([ 6.,  6., -6.,  6., -6.,  6., -6.,  6., -6.,  6., -6.,  6., -6.,\n",
       "         6., -6.,  6., -6.,  6., -6.,  6.]), timestamps=array([0. , 0.5, 1. , 1.5, 2. , 2.5, 3. , 3.5, 4. , 4.5, 5. , 5.5, 6. ,\n",
       "        6.5, 7. , 7.5, 8. , 8.5, 9. , 9.5], dtype=float32), unit=, conversion=None, comment=, raw=False),\n",
       " Signal(name=engine_speed, samples=array([ 6.,  6., -6.,  6., -6.,  6., -6.,  6., -6.,  6., -6.,  6., -6.,\n",
       "         6., -6.,  6., -6.,  6., -6.,  6.]), timestamps=array([0. , 0.5, 1. , 1.5, 2. , 2.5, 3. , 3.5, 4. , 4.5, 5. , 5.5, 6. ,\n",
       "        6.5, 7. , 7.5, 8. , 8.5, 9. , 9.5], dtype=float32), unit=rpm, conversion=None, comment=, raw=False),\n",
       " Signal(name=vehicle_speed, samples=array([ 6.,  6., -6.,  6., -6.,  6., -6.,  6., -6.,  6., -6.,  6., -6.,\n",
       "         6., -6.,  6., -6.,  6., -6.,  6.]), timestamps=array([0. , 0.5, 1. , 1.5, 2. , 2.5, 3. , 3.5, 4. , 4.5, 5. , 5.5, 6. ,\n",
       "        6.5, 7. , 7.5, 8. , 8.5, 9. , 9.5], dtype=float32), unit=kph, conversion=None, comment=, raw=False),\n",
       " Signal(name=coolant_temp, samples=array([ 6.,  6., -6.,  6., -6.,  6., -6.,  6., -6.,  6., -6.,  6., -6.,\n",
       "         6., -6.,  6., -6.,  6., -6.,  6.]), timestamps=array([0. , 0.5, 1. , 1.5, 2. , 2.5, 3. , 3.5, 4. , 4.5, 5. , 5.5, 6. ,\n",
       "        6.5, 7. , 7.5, 8. , 8.5, 9. , 9.5], dtype=float32), unit=C, conversion=None, comment=, raw=False),\n",
       " Signal(name=engine_speed_desired, samples=array([ 6.,  6., -6.,  6., -6.,  6., -6.,  6., -6.,  6., -6.,  6., -6.,\n",
       "         6., -6.,  6., -6.,  6., -6.,  6.]), timestamps=array([0. , 0.5, 1. , 1.5, 2. , 2.5, 3. , 3.5, 4. , 4.5, 5. , 5.5, 6. ,\n",
       "        6.5, 7. , 7.5, 8. , 8.5, 9. , 9.5], dtype=float32), unit=rpm, conversion=None, comment=, raw=False)]"
      ]
     },
     "execution_count": 70,
     "metadata": {},
     "output_type": "execute_result"
    }
   ],
   "source": [
    "signals"
   ]
  },
  {
   "cell_type": "code",
   "execution_count": 73,
   "metadata": {},
   "outputs": [],
   "source": [
    "mdf4.header[\"uuid\"]=\"\""
   ]
  },
  {
   "cell_type": "code",
   "execution_count": 86,
   "metadata": {},
   "outputs": [],
   "source": [
    "import json"
   ]
  },
  {
   "cell_type": "code",
   "execution_count": 91,
   "metadata": {},
   "outputs": [
    {
     "data": {
      "text/plain": [
       "'{\"transmission_gear\": \"uint8\", \"longitude\": \"\", \"power\": \"W\", \"latitude\": \"\", \"X\": \"\", \"efficiency\": \"[unitless]\", \"Y\": \"\", \"engine_speed\": \"rpm\", \"vehicle_speed\": \"kph\", \"coolant_temp\": \"C\", \"engine_speed_desired\": \"rpm\"}'"
      ]
     },
     "execution_count": 91,
     "metadata": {},
     "output_type": "execute_result"
    }
   ],
   "source": [
    "json.dumps(channels)"
   ]
  },
  {
   "cell_type": "code",
   "execution_count": 98,
   "metadata": {},
   "outputs": [
    {
     "data": {
      "text/plain": [
       "'constant_signals.mf4'"
      ]
     },
     "execution_count": 98,
     "metadata": {},
     "output_type": "execute_result"
    }
   ],
   "source": [
    "mdf4 = MDF(\n",
    "    version='4.10',\n",
    ")\n",
    "mdf4.append(\n",
    "    signals=signals,\n",
    "    source_info=json.dumps(channels),\n",
    "    common_timebase=False,\n",
    ")\n",
    "mdf4.save(\n",
    "    dst=\"constant_signals\",\n",
    "    overwrite=True,\n",
    "    compression=2,\n",
    ")"
   ]
  }
 ],
 "metadata": {
  "kernelspec": {
   "display_name": "Python 3",
   "language": "python",
   "name": "python3"
  },
  "language_info": {
   "codemirror_mode": {
    "name": "ipython",
    "version": 3
   },
   "file_extension": ".py",
   "mimetype": "text/x-python",
   "name": "python",
   "nbconvert_exporter": "python",
   "pygments_lexer": "ipython3",
   "version": "3.5.2"
  }
 },
 "nbformat": 4,
 "nbformat_minor": 2
}
