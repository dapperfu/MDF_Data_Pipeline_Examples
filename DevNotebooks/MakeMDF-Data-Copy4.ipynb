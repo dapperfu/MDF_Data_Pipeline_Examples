{
 "cells": [
  {
   "cell_type": "code",
   "execution_count": 69,
   "metadata": {},
   "outputs": [],
   "source": [
    "from asammdf import MDF, Signal\n",
    "import asammdf\n",
    "import numpy as np\n",
    "import scipy.signal\n",
    "import random\n",
    "import control\n",
    "import control.matlab as matlab\n",
    "import matplotlib.pyplot as plt\n",
    "import uuid\n",
    "import os\n",
    "import py"
   ]
  },
  {
   "cell_type": "markdown",
   "metadata": {},
   "source": [
    "$$ y(t) = A\\sin(2 \\pi f t + \\varphi) = A\\sin(\\omega t + \\varphi) $$"
   ]
  },
  {
   "cell_type": "code",
   "execution_count": 10,
   "metadata": {},
   "outputs": [],
   "source": [
    "channels = {\n",
    "    \"engine_speed\": \"rpm\",\n",
    "    \"engine_speed_desired\": \"rpm\",\n",
    "    \"vehicle_speed\": \"kph\",\n",
    "    \"transmission_gear\": \"uint8\",\n",
    "    \"coolant_temp\": \"C\",\n",
    "    \"longitude\": \"\",\n",
    "    \"latitude\": \"\",\n",
    "    \"power\": \"W\",\n",
    "    \"efficiency\": \"[unitless]\",\n",
    "    \"X\": \"\",\n",
    "    \"Y\": \"\" ,\n",
    "}"
   ]
  },
  {
   "cell_type": "code",
   "execution_count": 13,
   "metadata": {},
   "outputs": [],
   "source": [
    "tf=10\n",
    "t1=np.arange(0, tf, 1, dtype=np.float32)\n",
    "t2=np.arange(0, tf, 2, dtype=np.float32)\n",
    "t5En1=np.arange(0, tf, 5e-1, dtype=np.float32)\n",
    "t1En3=np.arange(0, tf, 1e-3, dtype=np.float32)\n",
    "timestamps = [t1, t2, t5En1, t1En3]\n",
    "\n",
    "def sine(t, A=1, f=1):\n",
    "    sine_ = A*np.sin(\n",
    "        2 * np.pi * f * t\n",
    "    )\n",
    "    return sine_\n",
    "    \n",
    "def cos(t, A=1, f=1):\n",
    "    cos_ = A*np.sin(\n",
    "        2 * np.pi * f * t\n",
    "    )\n",
    "    return cos_\n",
    "\n",
    "def square(t, A=1, f=1):\n",
    "    square_ = A*scipy.signal.square(\n",
    "        2 * np.pi * f * t\n",
    "    )\n",
    "    return square_\n",
    "\n",
    "def sawtooth(t, A=1, f=1):\n",
    "    sawtooth_ = A*scipy.signal.sawtooth(\n",
    "        2 * np.pi * f * t,\n",
    "        width=1,\n",
    "    )\n",
    "    return sawtooth_\n",
    "\n",
    "def triangle(t, A=1, f=1):\n",
    "    triangle_ = A*scipy.signal.sawtooth(\n",
    "        2 * np.pi * f * t,\n",
    "        width=0.5,\n",
    "    )\n",
    "    return triangle_\n",
    "\n",
    "signal_generators = [sine, cos, square, sawtooth, triangle]"
   ]
  },
  {
   "cell_type": "code",
   "execution_count": 70,
   "metadata": {
    "scrolled": true
   },
   "outputs": [],
   "source": [
    "signals = list()\n",
    "\n",
    "for channel_name, channel_units in channels.items():\n",
    "    if isinstance(channel_units, str):\n",
    "        channel_unit = channel_units\n",
    "    else:\n",
    "        raise type(channel_units)\n",
    "    \n",
    "    signal_generator = random.choice(signal_generators)\n",
    "\n",
    "    A = random.randint(1, 10)\n",
    "    f = random.randint(1, 100)\n",
    "    T = random.choice(timestamps)\n",
    "    Y = signal_generator(T, A, f)\n",
    "    \n",
    "    signal_ = Signal(\n",
    "        samples=Y,\n",
    "        timestamps=T,\n",
    "        name=channel_name,\n",
    "        unit=channel_unit,\n",
    "    )\n",
    "    signals.append(signal_)"
   ]
  },
  {
   "cell_type": "code",
   "execution_count": 71,
   "metadata": {},
   "outputs": [],
   "source": [
    "companies = [\n",
    "    \"HeavyEquipmentInc\",\n",
    "    \"CarCompanyLLC\",\n",
    "    \"HeavyDutyTruckCorp\",\n",
    "    \"AerospaceStartup\",\n",
    "]\n",
    "products = [\n",
    "    \"Bulldozer\",\n",
    "    \"DumpTruck\",\n",
    "    \"Excavator\",\n",
    "    \"Transmission\",\n",
    "    \"Airplane\",\n",
    "]\n",
    "versions = [\n",
    "    '2.00',\n",
    "    '2.10',\n",
    "    '2.14',\n",
    "    '3.00',\n",
    "    '3.10',\n",
    "    '3.20',\n",
    "    '3.30',\n",
    "    '4.00',\n",
    "    '4.10',\n",
    "    '4.11',\n",
    "]"
   ]
  },
  {
   "cell_type": "code",
   "execution_count": 72,
   "metadata": {},
   "outputs": [],
   "source": [
    "company = random.choice(companies)\n",
    "product = random.choice(products)\n",
    "version = random.choice(versions)\n",
    "\n",
    "data_file_uuid = str(uuid.uuid4())"
   ]
  },
  {
   "cell_type": "code",
   "execution_count": 73,
   "metadata": {},
   "outputs": [
    {
     "data": {
      "text/plain": [
       "local('/projects/python_MDF_Indexer/DevNotebooks/CarCompanyLLC/Airplane')"
      ]
     },
     "execution_count": 73,
     "metadata": {},
     "output_type": "execute_result"
    }
   ],
   "source": [
    "channel_path_ = [company, product, data_file_uuid]\n",
    "\n",
    "channel_path = py.path.local(\n",
    "        os.path.join(*channel_path_)\n",
    ")\n",
    "\n",
    "channel_path.dirpath().ensure(dir=True)"
   ]
  },
  {
   "cell_type": "code",
   "execution_count": 77,
   "metadata": {},
   "outputs": [
    {
     "data": {
      "text/plain": [
       "'/projects/python_MDF_Indexer/DevNotebooks/CarCompanyLLC/Airplane/b6b6c52c-91db-406e-aab4-54e3409094cf.mf4'"
      ]
     },
     "execution_count": 77,
     "metadata": {},
     "output_type": "execute_result"
    }
   ],
   "source": [
    "mdf = MDF(\n",
    "    version=version,\n",
    ")\n",
    "mdf.append(\n",
    "    signals=signals,\n",
    "    common_timebase=False,\n",
    ")\n",
    "mdf.save(\n",
    "    dst=str(channel_path),\n",
    "    overwrite=True,\n",
    "    compression=2,\n",
    ")"
   ]
  }
 ],
 "metadata": {
  "kernelspec": {
   "display_name": "Python 3",
   "language": "python",
   "name": "python3"
  },
  "language_info": {
   "codemirror_mode": {
    "name": "ipython",
    "version": 3
   },
   "file_extension": ".py",
   "mimetype": "text/x-python",
   "name": "python",
   "nbconvert_exporter": "python",
   "pygments_lexer": "ipython3",
   "version": "3.5.2"
  }
 },
 "nbformat": 4,
 "nbformat_minor": 2
}
