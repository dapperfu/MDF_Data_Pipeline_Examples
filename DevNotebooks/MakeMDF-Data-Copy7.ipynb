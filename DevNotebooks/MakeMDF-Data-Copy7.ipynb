{
 "cells": [
  {
   "cell_type": "code",
   "execution_count": 4,
   "metadata": {},
   "outputs": [],
   "source": [
    "import os\n",
    "import random\n",
    "import uuid\n",
    "\n",
    "import numpy as np\n",
    "import py\n",
    "import scipy.signal\n",
    "import configparser\n",
    "\n",
    "from asammdf import MDF, Signal"
   ]
  },
  {
   "cell_type": "code",
   "execution_count": 8,
   "metadata": {},
   "outputs": [],
   "source": [
    "def sine(t, A=1, f=1):\n",
    "    \"\"\"SINE\n",
    "\n",
    "    \"\"\"\n",
    "    sine_ = A * np.sin(2 * np.pi * f * t)\n",
    "    return sine_\n",
    "\n",
    "\n",
    "def cos(t, A=1, f=1):\n",
    "    \"\"\"COSINE\n",
    "\n",
    "    \"\"\"\n",
    "    cos_ = A * np.sin(2 * np.pi * f * t)\n",
    "    return cos_\n",
    "\n",
    "\n",
    "def square(t, A=1, f=1):\n",
    "    \"\"\"SQUARE\n",
    "\n",
    "    \"\"\"\n",
    "    square_ = A * scipy.signal.square(2 * np.pi * f * t)\n",
    "    return square_\n",
    "\n",
    "\n",
    "def sawtooth(t, A=1, f=1):\n",
    "    \"\"\"SAWTOOTH\n",
    "\n",
    "    \"\"\"\n",
    "    sawtooth_ = A * scipy.signal.sawtooth(2 * np.pi * f * t, width=1)\n",
    "    return sawtooth_\n",
    "\n",
    "\n",
    "def triangle(t, A=1, f=1):\n",
    "    \"\"\"TRIANGLE\n",
    "    \"\"\"\n",
    "    triangle_ = A * scipy.signal.sawtooth(2 * np.pi * f * t, width=0.5)\n",
    "    return triangle_\n",
    "\n",
    "\n",
    "# List with each of the signal generator types.\n",
    "signal_generators = [sine, cos, square, sawtooth, triangle]"
   ]
  },
  {
   "cell_type": "code",
   "execution_count": 10,
   "metadata": {},
   "outputs": [],
   "source": [
    "tf=10\n",
    "timestamps = {\n",
    "    \"t1En1\": np.arange(0, tf, 1e-1, dtype=np.float32),\n",
    "    \"t1En2\": np.arange(0, tf, 1e-2, dtype=np.float32),\n",
    "    \"t1En3\": np.arange(0, tf, 1e-3, dtype=np.float32),\n",
    "    \"t1En4\": np.arange(0, tf, 1e-4, dtype=np.float32),\n",
    "    \"t1En5\": np.arange(0, tf, 1e-5, dtype=np.float32),\n",
    "}"
   ]
  },
  {
   "cell_type": "code",
   "execution_count": 19,
   "metadata": {},
   "outputs": [
    {
     "data": {
      "text/plain": [
       "25"
      ]
     },
     "execution_count": 19,
     "metadata": {},
     "output_type": "execute_result"
    }
   ],
   "source": [
    "len"
   ]
  },
  {
   "cell_type": "code",
   "execution_count": 13,
   "metadata": {},
   "outputs": [
    {
     "data": {
      "text/plain": [
       "PosixPath('baseline.mf4')"
      ]
     },
     "execution_count": 13,
     "metadata": {},
     "output_type": "execute_result"
    }
   ],
   "source": [
    "signals=list()\n",
    "A = 1\n",
    "f = 1\n",
    "for signal_generator in signal_generators:\n",
    "    for t_name, T in timestamps.items():\n",
    "        Y = signal_generator(T, A, f)\n",
    "        channel_name = \"{}_{}\".format(signal_generator.__name__, t_name)\n",
    "\n",
    "        signal_ = Signal(samples=Y, timestamps=T, name=channel_name)\n",
    "        signals.append(signal_)\n",
    "        \n",
    "mdf = MDF(\n",
    "    version=\"4.11\",\n",
    ")\n",
    "mdf.append(\n",
    "    signals=signals,\n",
    "    common_timebase=False,\n",
    ")\n",
    "o = mdf.save(\n",
    "    dst=str(\"baseline\"),\n",
    "    overwrite=True,\n",
    "    compression=2,\n",
    ")\n",
    "o"
   ]
  },
  {
   "cell_type": "code",
   "execution_count": 15,
   "metadata": {},
   "outputs": [],
   "source": [
    "mdf2 = MDF(o)"
   ]
  },
  {
   "cell_type": "code",
   "execution_count": 17,
   "metadata": {},
   "outputs": [
    {
     "data": {
      "text/plain": [
       "1"
      ]
     },
     "execution_count": 17,
     "metadata": {},
     "output_type": "execute_result"
    }
   ],
   "source": [
    "len(mdf.groups)"
   ]
  },
  {
   "cell_type": "code",
   "execution_count": 22,
   "metadata": {},
   "outputs": [
    {
     "data": {
      "text/plain": [
       "['time',\n",
       " 'sine_t1En1',\n",
       " 'sine_t1En2',\n",
       " 'sine_t1En3',\n",
       " 'sine_t1En4',\n",
       " 'sine_t1En5',\n",
       " 'cos_t1En1',\n",
       " 'cos_t1En2',\n",
       " 'cos_t1En3',\n",
       " 'cos_t1En4',\n",
       " 'cos_t1En5',\n",
       " 'square_t1En1',\n",
       " 'square_t1En2',\n",
       " 'square_t1En3',\n",
       " 'square_t1En4',\n",
       " 'square_t1En5',\n",
       " 'sawtooth_t1En1',\n",
       " 'sawtooth_t1En2',\n",
       " 'sawtooth_t1En3',\n",
       " 'sawtooth_t1En4',\n",
       " 'sawtooth_t1En5',\n",
       " 'triangle_t1En1',\n",
       " 'triangle_t1En2',\n",
       " 'triangle_t1En3',\n",
       " 'triangle_t1En4',\n",
       " 'triangle_t1En5']"
      ]
     },
     "execution_count": 22,
     "metadata": {},
     "output_type": "execute_result"
    }
   ],
   "source": [
    "list(mdf.channels_db.keys())"
   ]
  },
  {
   "cell_type": "code",
   "execution_count": 23,
   "metadata": {},
   "outputs": [
    {
     "data": {
      "text/plain": [
       "<Signal time:\n",
       "\tsamples=[0.00000000e+00 9.99999975e-06 1.99999995e-05 ... 9.99996948e+00\n",
       " 9.99997997e+00 9.99998951e+00]\n",
       "\ttimestamps=[0.00000000e+00 9.99999975e-06 1.99999995e-05 ... 9.99996948e+00\n",
       " 9.99997997e+00 9.99998951e+00]\n",
       "\tunit=\"s\"\n",
       "\tconversion=None\n",
       "\tsource=SignalSource(name='Python', path='Python', comment='', source_type=4, bus_type=0)\n",
       "\tcomment=\"\"\n",
       "\tmastermeta=\"('time', 1)\"\n",
       "\traw=False\n",
       "\tdisplay_name=\n",
       "\tattachment=()>"
      ]
     },
     "execution_count": 23,
     "metadata": {},
     "output_type": "execute_result"
    }
   ],
   "source": [
    "mdf.get(\"time\")"
   ]
  },
  {
   "cell_type": "code",
   "execution_count": null,
   "metadata": {},
   "outputs": [],
   "source": []
  }
 ],
 "metadata": {
  "kernelspec": {
   "display_name": "Python 3",
   "language": "python",
   "name": "python3"
  },
  "language_info": {
   "codemirror_mode": {
    "name": "ipython",
    "version": 3
   },
   "file_extension": ".py",
   "mimetype": "text/x-python",
   "name": "python",
   "nbconvert_exporter": "python",
   "pygments_lexer": "ipython3",
   "version": "3.6.7"
  }
 },
 "nbformat": 4,
 "nbformat_minor": 2
}
