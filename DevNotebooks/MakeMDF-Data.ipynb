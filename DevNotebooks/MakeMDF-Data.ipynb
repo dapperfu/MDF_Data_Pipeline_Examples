{
 "cells": [
  {
   "cell_type": "code",
   "execution_count": 10,
   "metadata": {},
   "outputs": [],
   "source": [
    "from asammdf import MDF, Signal\n",
    "import asammdf\n",
    "import numpy as np\n",
    "import scipy.signal\n",
    "import random\n",
    "import control\n",
    "import control.matlab as matlab"
   ]
  },
  {
   "cell_type": "markdown",
   "metadata": {},
   "source": [
    "$$ y(t) = A\\sin(2 \\pi f t + \\varphi) = A\\sin(\\omega t + \\varphi) $$"
   ]
  },
  {
   "cell_type": "code",
   "execution_count": 11,
   "metadata": {},
   "outputs": [],
   "source": [
    "companies = [\n",
    "    \"HeavyEquipmentInc\",\n",
    "]\n",
    "\n",
    "products = [\n",
    "    \"Bulldozer\",\n",
    "    \"DumpTruck\",\n",
    "    \"Excavator\",\n",
    "]\n",
    "\n",
    "channels = [\n",
    "    \"engine_speed\",\n",
    "    \"engine_speed_desired\",\n",
    "    \"vehicle_speed\",\n",
    "    \"transmission_gear\",\n",
    "    \"coolant_temp\",\n",
    "    \"longitude\",\n",
    "    \"latitude\"\n",
    "]"
   ]
  },
  {
   "cell_type": "code",
   "execution_count": 27,
   "metadata": {},
   "outputs": [],
   "source": [
    "t=np.arange(0, 10, 1e-1, dtype=np.float32)"
   ]
  },
  {
   "cell_type": "code",
   "execution_count": 28,
   "metadata": {},
   "outputs": [],
   "source": [
    "A=1\n",
    "f=1\n",
    "\n",
    "sine_ = A*np.sin(\n",
    "    2 * np.pi * f * t\n",
    ")\n",
    "sine = Signal(\n",
    "    samples=sine_,\n",
    "    timestamps=t,\n",
    "    name=\"sine\",\n",
    "    unit='f8',\n",
    ")"
   ]
  },
  {
   "cell_type": "code",
   "execution_count": 29,
   "metadata": {},
   "outputs": [
    {
     "data": {
      "text/plain": [
       "'tmp.mf4'"
      ]
     },
     "execution_count": 29,
     "metadata": {},
     "output_type": "execute_result"
    }
   ],
   "source": [
    "signals = [\n",
    "    sine,\n",
    "]\n",
    "\n",
    "mdf4 = MDF(\n",
    "    version='4.10',\n",
    ")\n",
    "mdf4.append(\n",
    "    signals=signals,\n",
    "    source_info='Created by '+asammdf.__version__,\n",
    "    common_timebase=False,\n",
    ")\n",
    "\n",
    "mdf4.save(\n",
    "    dst=\"tmp\",\n",
    "    overwrite=True,\n",
    "    compression=2,\n",
    ")"
   ]
  }
 ],
 "metadata": {
  "kernelspec": {
   "display_name": "Python 3",
   "language": "python",
   "name": "python3"
  },
  "language_info": {
   "codemirror_mode": {
    "name": "ipython",
    "version": 3
   },
   "file_extension": ".py",
   "mimetype": "text/x-python",
   "name": "python",
   "nbconvert_exporter": "python",
   "pygments_lexer": "ipython3",
   "version": "3.5.2"
  }
 },
 "nbformat": 4,
 "nbformat_minor": 2
}
