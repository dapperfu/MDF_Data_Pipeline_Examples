{
 "cells": [
  {
   "cell_type": "code",
   "execution_count": 99,
   "metadata": {},
   "outputs": [],
   "source": [
    "import asammdf\n",
    "import hashlib"
   ]
  },
  {
   "cell_type": "code",
   "execution_count": null,
   "metadata": {},
   "outputs": [],
   "source": [
    "import pony.orm"
   ]
  },
  {
   "cell_type": "code",
   "execution_count": 93,
   "metadata": {},
   "outputs": [],
   "source": [
    "pony.orm.set_sql_debug(True)"
   ]
  },
  {
   "cell_type": "code",
   "execution_count": 114,
   "metadata": {},
   "outputs": [
    {
     "name": "stdout",
     "output_type": "stream",
     "text": [
      "GET NEW CONNECTION\n",
      "RELEASE CONNECTION\n",
      "GET CONNECTION FROM THE LOCAL POOL\n",
      "PRAGMA foreign_keys = false\n",
      "BEGIN IMMEDIATE TRANSACTION\n",
      "CREATE TABLE \"Channel\" (\n",
      "  \"id\" INTEGER PRIMARY KEY AUTOINCREMENT,\n",
      "  \"name\" TEXT UNIQUE NOT NULL\n",
      ")\n",
      "\n",
      "CREATE TABLE \"MDF\" (\n",
      "  \"id\" INTEGER PRIMARY KEY AUTOINCREMENT,\n",
      "  \"name\" TEXT NOT NULL,\n",
      "  \"sha256\" TEXT NOT NULL,\n",
      "  \"md5\" TEXT NOT NULL\n",
      ")\n",
      "\n",
      "CREATE TABLE \"Channel_MDF\" (\n",
      "  \"channel\" INTEGER NOT NULL REFERENCES \"Channel\" (\"id\"),\n",
      "  \"mdf\" INTEGER NOT NULL REFERENCES \"MDF\" (\"id\"),\n",
      "  PRIMARY KEY (\"channel\", \"mdf\")\n",
      ")\n",
      "\n",
      "CREATE INDEX \"idx_channel_mdf\" ON \"Channel_MDF\" (\"mdf\")\n",
      "\n",
      "SELECT \"Channel\".\"id\", \"Channel\".\"name\"\n",
      "FROM \"Channel\" \"Channel\"\n",
      "WHERE 0 = 1\n",
      "\n",
      "SELECT \"Channel_MDF\".\"channel\", \"Channel_MDF\".\"mdf\"\n",
      "FROM \"Channel_MDF\" \"Channel_MDF\"\n",
      "WHERE 0 = 1\n",
      "\n",
      "SELECT \"MDF\".\"id\", \"MDF\".\"name\", \"MDF\".\"sha256\", \"MDF\".\"md5\"\n",
      "FROM \"MDF\" \"MDF\"\n",
      "WHERE 0 = 1\n",
      "\n",
      "COMMIT\n",
      "PRAGMA foreign_keys = true\n",
      "CLOSE CONNECTION\n"
     ]
    }
   ],
   "source": [
    "db = pony.orm.Database()\n",
    "db.bind(provider='sqlite', filename=':memory:')\n",
    "\n",
    "class MDF(db.Entity):\n",
    "    name = pony.orm.Required(\n",
    "        str,\n",
    "    )\n",
    "    sha256 = pony.orm.Required(\n",
    "        str, \n",
    "        unique=True,\n",
    "    )\n",
    "    md5 = pony.orm.Required(\n",
    "        str,\n",
    "        unique=True,\n",
    "    )\n",
    "    channels = pony.orm.Set(\n",
    "        'Channel',\n",
    "    )\n",
    "    \n",
    "class Channel(db.Entity):\n",
    "    name = pony.orm.Required(\n",
    "        str,\n",
    "        unique=True,\n",
    "    )\n",
    "    mdfs = pony.orm.Set(\n",
    "        \"MDF\",\n",
    "    )\n",
    "\n",
    "db.generate_mapping(create_tables=True)"
   ]
  },
  {
   "cell_type": "code",
   "execution_count": 115,
   "metadata": {},
   "outputs": [],
   "source": [
    "data_file = \"A1_f1_c2.mf4\""
   ]
  },
  {
   "cell_type": "code",
   "execution_count": 116,
   "metadata": {},
   "outputs": [],
   "source": [
    "with open(data_file, \"rb\") as fid:\n",
    "    sha256 = hashlib.sha256(fid.read()).hexdigest()\n",
    "    md5 = hashlib.md5(fid.read()).hexdigest()"
   ]
  },
  {
   "cell_type": "code",
   "execution_count": 124,
   "metadata": {},
   "outputs": [],
   "source": [
    "mdf = asammdf.MDF(data_file)"
   ]
  },
  {
   "cell_type": "code",
   "execution_count": 118,
   "metadata": {},
   "outputs": [
    {
     "name": "stdout",
     "output_type": "stream",
     "text": [
      "GET CONNECTION FROM THE LOCAL POOL\n",
      "BEGIN IMMEDIATE TRANSACTION\n",
      "INSERT INTO \"Channel\" (\"name\") VALUES (?)\n",
      "['t']\n",
      "\n",
      "INSERT INTO \"Channel\" (\"name\") VALUES (?)\n",
      "['sawtooth']\n",
      "\n",
      "INSERT INTO \"Channel\" (\"name\") VALUES (?)\n",
      "['sine']\n",
      "\n",
      "INSERT INTO \"Channel\" (\"name\") VALUES (?)\n",
      "['square']\n",
      "\n",
      "COMMIT\n"
     ]
    }
   ],
   "source": [
    "channels = list()\n",
    "mdf.channels_db.keys()\n",
    "for channel in mdf.channels_db.keys():\n",
    "    channels.append(Channel(name=channel))\n",
    "pony.orm.commit()"
   ]
  },
  {
   "cell_type": "code",
   "execution_count": 128,
   "metadata": {
    "scrolled": true
   },
   "outputs": [
    {
     "name": "stdout",
     "output_type": "stream",
     "text": [
      "BEGIN IMMEDIATE TRANSACTION\n",
      "INSERT INTO \"MDF\" (\"name\", \"sha256\", \"md5\") VALUES (?, ?, ?)\n",
      "['A1_f1_c2.mf4', '75e4293b5c6f626155de9f81c9d4ce95cfd367a78d6e96038ceb32c5e46cc856', 'd41d8cd98f00b204e9800998ecf8427e']\n",
      "\n",
      "INSERT INTO \"MDF\" (\"name\", \"sha256\", \"md5\") VALUES (?, ?, ?)\n",
      "['A1_f1_c2.mf4', '75e4293b5c6f626155de9f81c9d4ce95cfd367a78d6e96038ceb32c5e46cc856', 'd41d8cd98f00b204e9800998ecf8427e']\n",
      "\n",
      "EXECUTEMANY (8)\n",
      "INSERT INTO \"Channel_MDF\" (\"channel\", \"mdf\") VALUES (?, ?)\n",
      "[3, 2]\n",
      "[1, 1]\n",
      "[2, 1]\n",
      "[4, 2]\n",
      "[2, 2]\n",
      "[1, 2]\n",
      "[3, 1]\n",
      "[4, 1]\n",
      "\n",
      "COMMIT\n"
     ]
    }
   ],
   "source": [
    "mdf_ = MDF(\n",
    "    name=data_file,\n",
    "    sha256=sha256,\n",
    "    md5=md5,\n",
    "    channels = channels,\n",
    ")\n",
    "pony.orm.commit()"
   ]
  },
  {
   "cell_type": "code",
   "execution_count": null,
   "metadata": {},
   "outputs": [],
   "source": [
    "db."
   ]
  }
 ],
 "metadata": {
  "kernelspec": {
   "display_name": "Python 3",
   "language": "python",
   "name": "python3"
  },
  "language_info": {
   "codemirror_mode": {
    "name": "ipython",
    "version": 3
   },
   "file_extension": ".py",
   "mimetype": "text/x-python",
   "name": "python",
   "nbconvert_exporter": "python",
   "pygments_lexer": "ipython3",
   "version": "3.5.2"
  }
 },
 "nbformat": 4,
 "nbformat_minor": 2
}
