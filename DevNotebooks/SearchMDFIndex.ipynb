{
 "cells": [
  {
   "cell_type": "markdown",
   "metadata": {},
   "source": [
    "# PonyORM MDF Indexer"
   ]
  },
  {
   "cell_type": "markdown",
   "metadata": {},
   "source": [
    "### Imports"
   ]
  },
  {
   "cell_type": "code",
   "execution_count": 18,
   "metadata": {},
   "outputs": [],
   "source": [
    "import pony.orm\n",
    "from pony.orm.core import EntityMeta\n",
    "from pony import orm\n",
    "import py\n",
    "import time\n",
    "import os\n",
    "\n",
    "pony.orm.set_sql_debug(False)"
   ]
  },
  {
   "cell_type": "markdown",
   "metadata": {},
   "source": [
    "# Database Setup"
   ]
  },
  {
   "cell_type": "code",
   "execution_count": 40,
   "metadata": {},
   "outputs": [],
   "source": [
    "db = pony.orm.Database()\n",
    "\n",
    "database_file = os.path.abspath('../mdf_index.sqlite')\n",
    "\n",
    "db.bind(\n",
    "    provider='sqlite',\n",
    "    filename=database_file\n",
    ")\n",
    "\n",
    "class MDF(db.Entity):\n",
    "    name = pony.orm.Required(\n",
    "        str,\n",
    "    )\n",
    "    version = pony.orm.Required(\n",
    "        str,\n",
    "    )\n",
    "    sha256 = pony.orm.Required(\n",
    "        str, \n",
    "    )\n",
    "    size = pony.orm.Optional(\n",
    "        int, \n",
    "    )\n",
    "    size_mb = pony.orm.Optional(\n",
    "        float, \n",
    "    )\n",
    "    atime = pony.orm.Optional(\n",
    "        float,\n",
    "    )\n",
    "    channels = pony.orm.Set(\n",
    "        'Channel',\n",
    "    )\n",
    "    \n",
    "class Channel(db.Entity):\n",
    "    name = pony.orm.Required(\n",
    "        str,\n",
    "        unique=True,\n",
    "    )\n",
    "    mdfs = pony.orm.Set(\n",
    "        \"MDF\",\n",
    "    )\n",
    "    \n",
    "db.generate_mapping(create_tables=True)"
   ]
  },
  {
   "cell_type": "code",
   "execution_count": 43,
   "metadata": {},
   "outputs": [],
   "source": [
    "small = [mdf for mdf in MDF.select() if mdf.size_mb<0.5]\n",
    "large = [mdf for mdf in MDF.select() if mdf.size_mb>0]"
   ]
  },
  {
   "cell_type": "code",
   "execution_count": 44,
   "metadata": {},
   "outputs": [
    {
     "data": {
      "text/plain": [
       "[]"
      ]
     },
     "execution_count": 44,
     "metadata": {},
     "output_type": "execute_result"
    }
   ],
   "source": [
    "large"
   ]
  },
  {
   "cell_type": "code",
   "execution_count": null,
   "metadata": {},
   "outputs": [],
   "source": []
  }
 ],
 "metadata": {
  "kernelspec": {
   "display_name": "Python 3",
   "language": "python",
   "name": "python3"
  },
  "language_info": {
   "codemirror_mode": {
    "name": "ipython",
    "version": 3
   },
   "file_extension": ".py",
   "mimetype": "text/x-python",
   "name": "python",
   "nbconvert_exporter": "python",
   "pygments_lexer": "ipython3",
   "version": "3.5.2"
  }
 },
 "nbformat": 4,
 "nbformat_minor": 2
}
